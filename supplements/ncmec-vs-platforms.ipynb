{
 "cells": [
  {
   "cell_type": "code",
   "execution_count": 1,
   "metadata": {},
   "outputs": [
    {
     "data": {
      "text/html": [
       "<h1>NCMEC vs Platform Disclosures 2021</h1>"
      ],
      "text/plain": [
       "<IPython.core.display.HTML object>"
      ]
     },
     "metadata": {},
     "output_type": "display_data"
    },
    {
     "name": "stdout",
     "output_type": "stream",
     "text": [
      "Snap H1: 119,134 + 14.4% = 136,336\n",
      "TikTok videos removed due to minor safety: 141,795,713\n"
     ]
    },
    {
     "data": {
      "text/html": [
       "<style type=\"text/css\">\n",
       "</style>\n",
       "<table id=\"T_bc734\">\n",
       "  <thead>\n",
       "    <tr>\n",
       "      <th class=\"blank level0\" >&nbsp;</th>\n",
       "      <th id=\"T_bc734_level0_col0\" class=\"col_heading level0 col0\" >NCMEC</th>\n",
       "      <th id=\"T_bc734_level0_col1\" class=\"col_heading level0 col1\" >∆</th>\n",
       "      <th id=\"T_bc734_level0_col2\" class=\"col_heading level0 col2\" >Platform</th>\n",
       "    </tr>\n",
       "  </thead>\n",
       "  <tbody>\n",
       "    <tr>\n",
       "      <th id=\"T_bc734_level0_row0\" class=\"row_heading level0 row0\" >LinkedIn</th>\n",
       "      <td id=\"T_bc734_row0_col0\" class=\"data row0 col0\" >110</td>\n",
       "      <td id=\"T_bc734_row0_col1\" class=\"data row0 col1\" >105%</td>\n",
       "      <td id=\"T_bc734_row0_col2\" class=\"data row0 col2\" >226</td>\n",
       "    </tr>\n",
       "    <tr>\n",
       "      <th id=\"T_bc734_level0_row1\" class=\"row_heading level0 row1\" >Pinterest</th>\n",
       "      <td id=\"T_bc734_row1_col0\" class=\"data row1 col0\" >2,283</td>\n",
       "      <td id=\"T_bc734_row1_col1\" class=\"data row1 col1\" >18%</td>\n",
       "      <td id=\"T_bc734_row1_col2\" class=\"data row1 col2\" >2,685</td>\n",
       "    </tr>\n",
       "    <tr>\n",
       "      <th id=\"T_bc734_level0_row2\" class=\"row_heading level0 row2\" >Reddit</th>\n",
       "      <td id=\"T_bc734_row2_col0\" class=\"data row2 col0\" >10,059</td>\n",
       "      <td id=\"T_bc734_row2_col1\" class=\"data row2 col1\" >0%</td>\n",
       "      <td id=\"T_bc734_row2_col2\" class=\"data row2 col2\" >10,059</td>\n",
       "    </tr>\n",
       "    <tr>\n",
       "      <th id=\"T_bc734_level0_row3\" class=\"row_heading level0 row3\" >Snap</th>\n",
       "      <td id=\"T_bc734_row3_col0\" class=\"data row3 col0\" >512,522</td>\n",
       "      <td id=\"T_bc734_row3_col1\" class=\"data row3 col1\" >-35%</td>\n",
       "      <td id=\"T_bc734_row3_col2\" class=\"data row3 col2\" >334,445</td>\n",
       "    </tr>\n",
       "    <tr>\n",
       "      <th id=\"T_bc734_level0_row4\" class=\"row_heading level0 row4\" >TikTok</th>\n",
       "      <td id=\"T_bc734_row4_col0\" class=\"data row4 col0\" >154,618</td>\n",
       "      <td id=\"T_bc734_row4_col1\" class=\"data row4 col1\" >91,607%</td>\n",
       "      <td id=\"T_bc734_row4_col2\" class=\"data row4 col2\" >141,795,713</td>\n",
       "    </tr>\n",
       "    <tr>\n",
       "      <th id=\"T_bc734_level0_row5\" class=\"row_heading level0 row5\" >Twitter</th>\n",
       "      <td id=\"T_bc734_row5_col0\" class=\"data row5 col0\" >86,666</td>\n",
       "      <td id=\"T_bc734_row5_col1\" class=\"data row5 col1\" >1,112%</td>\n",
       "      <td id=\"T_bc734_row5_col2\" class=\"data row5 col2\" >1,050,751</td>\n",
       "    </tr>\n",
       "  </tbody>\n",
       "</table>\n"
      ],
      "text/plain": [
       "<pandas.io.formats.style.Styler at 0x1264e9990>"
      ]
     },
     "metadata": {},
     "output_type": "display_data"
    }
   ],
   "source": [
    "import pandas as pd\n",
    "from IPython.display import display, HTML\n",
    "\n",
    "display(HTML('<h1>NCMEC vs Platform Disclosures 2021</h1>'))\n",
    "\n",
    "# https://www.missingkids.org/content/dam/missingkids/pdfs/2021-reports-by-esp.pdf\n",
    "NCMEC = pd.Series({\n",
    "    \"LinkedIn\": 110,\n",
    "    \"Pinterest\": 2_283,\n",
    "    \"Reddit\": 10_059,\n",
    "    \"Snap\": 512_522,\n",
    "    \"TikTok\": 154_618,\n",
    "    \"Twitter\": 86_666,\n",
    "}, name='NCMEC')\n",
    "\n",
    "# H1: \"In the first half of 2021, 5.43% of the total number of accounts enforced\n",
    "# globally contained CSAM\" -- but also \"Total Account Deletions: 119,134\"\n",
    "SNAP_H1_COUNT = 119_134\n",
    "SNAP_H1_FRACTION = round(0.0543 * 2_510_798)\n",
    "delta = (SNAP_H1_FRACTION - SNAP_H1_COUNT) / SNAP_H1_COUNT * 100\n",
    "print(f\"Snap H1: {SNAP_H1_COUNT:,d} + {delta:.1f}% = {SNAP_H1_FRACTION:,d}\")\n",
    "\n",
    "# \"Total videos removed\" vs \"Total video removal, by policy\"\n",
    "TIKTOK = pd.DataFrame({\n",
    "    \"Total\": [61_951_327, 81_518_334, 91_445_802, 85_794_222],\n",
    "    \"Minor Safety Pct\": [0.368, 0.413, 0.510, 0.451]\n",
    "}, index=['Q1', 'Q2', 'Q3', 'Q4'])\n",
    "\n",
    "TIKTOK['Minor Safety'] = (\n",
    "    TIKTOK['Minor Safety Pct'] * TIKTOK['Total']\n",
    ").round(0).astype('int')\n",
    "\n",
    "TIKTOK_TOTAL = TIKTOK['Minor Safety'].sum()\n",
    "print(f\"TikTok videos removed due to minor safety: {TIKTOK_TOTAL:,d}\")\n",
    "\n",
    "\n",
    "# \"Child sexual exploitation\"\n",
    "TWITTER = {\n",
    "    \"Accounts actioned\": 456_146 + 599_523,\n",
    "    \"Accounts suspended\": 453_754 + 596_997,\n",
    "}\n",
    "\n",
    "PLATFORM = pd.Series({\n",
    "    # \"Child exploitation\"\n",
    "    \"LinkedIn\": 101 + 125,\n",
    "    # H1: \"Our team of specialists is trained to identify and review CSAM, and\n",
    "    # was responsible for 890 CyberTipline reports to NCMEC from January to June\n",
    "    # 2021.\"\n",
    "    # H2: \"From July to December 2021, our team of specialists was responsible\n",
    "    # for 1,794 CyberTipline reports to NCMEC.\"\n",
    "    \"Pinterest\": 890 + 1_795,\n",
    "    # \"we made 10,059 CyberTipline reports to NCMEC\"\n",
    "    \"Reddit\": 10_059,\n",
    "    \"Snap\": SNAP_H1_FRACTION + 198_109,\n",
    "    \"TikTok\": TIKTOK_TOTAL,\n",
    "    \"Twitter\": TWITTER[\"Accounts suspended\"],\n",
    "}, name='Platform')\n",
    "\n",
    "diff = (PLATFORM - NCMEC) / NCMEC * 100\n",
    "diff.name = \"∆\"\n",
    "\n",
    "df = pd.concat([NCMEC, diff, PLATFORM], axis=1)\n",
    "display(df.style.format({\"NCMEC\": \"{0:,d}\", \"∆\": \"{0:,.0f}%\", \"Platform\": \"{0:,d}\"}))\n"
   ]
  }
 ],
 "metadata": {
  "kernelspec": {
   "display_name": ".venv",
   "language": "python",
   "name": "python3"
  },
  "language_info": {
   "codemirror_mode": {
    "name": "ipython",
    "version": 3
   },
   "file_extension": ".py",
   "mimetype": "text/x-python",
   "name": "python",
   "nbconvert_exporter": "python",
   "pygments_lexer": "ipython3",
   "version": "3.11.1"
  },
  "orig_nbformat": 4
 },
 "nbformat": 4,
 "nbformat_minor": 2
}
