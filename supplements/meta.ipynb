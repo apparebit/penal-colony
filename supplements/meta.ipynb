{
 "cells": [
  {
   "cell_type": "code",
   "execution_count": 1,
   "metadata": {},
   "outputs": [
    {
     "data": {
      "text/html": [
       "<h1>Meta</h1><h2>Meta: Q3 Data Overview</h2>"
      ],
      "text/plain": [
       "<IPython.core.display.HTML object>"
      ]
     },
     "metadata": {},
     "output_type": "display_data"
    },
    {
     "name": "stdout",
     "output_type": "stream",
     "text": [
      "<class 'pandas.core.frame.DataFrame'>\n",
      "RangeIndex: 2780 entries, 0 to 2779\n",
      "Data columns (total 7 columns):\n",
      " #   Column       Non-Null Count  Dtype        \n",
      "---  ------       --------------  -----        \n",
      " 0   app          2780 non-null   category     \n",
      " 1   policy_area  2780 non-null   category     \n",
      " 2   metric       2780 non-null   category     \n",
      " 3   period       2780 non-null   period[Q-DEC]\n",
      " 4   value        1788 non-null   string       \n",
      " 5   count        1243 non-null   UInt64       \n",
      " 6   percent      545 non-null    float64      \n",
      "dtypes: UInt64(1), category(3), float64(1), period[Q-DEC](1), string(1)\n",
      "memory usage: 98.4 KB\n"
     ]
    },
    {
     "data": {
      "text/plain": [
       "None"
      ]
     },
     "metadata": {},
     "output_type": "display_data"
    }
   ],
   "source": [
    "import pandas as pd\n",
    "from IPython.display import display, HTML\n",
    "\n",
    "# Meta's transparency data is organized into app, policy_area, metric, period,\n",
    "# and value columns. The metrics listed under COUNT have an integer count with\n",
    "# comma as thousands separator as value, and the metrics listed under PERCENT\n",
    "# have a percent value with trailing percent sign as value. When a value for\n",
    "# either kind of metric is not available, it is marked as N/A.\n",
    "\n",
    "# Combining different kinds of metrics within the same column is bad form\n",
    "# because they don't even share the same type. Hence we parse the value column\n",
    "# as strings and undo the damage afterwards.\n",
    "\n",
    "COUNT = (\n",
    "    'Content Actioned',\n",
    "    'Content Appealed',\n",
    "    'Content Restored with appeal',\n",
    "    'Content Restored without appeal',\n",
    ")\n",
    "\n",
    "PERCENT = (\n",
    "    'Proactive rate',\n",
    "    'UBP',\n",
    "    'Prevalence',\n",
    "    'Lowerbound Prevalence',\n",
    "    'Upperbound Prevalence',\n",
    ")\n",
    "\n",
    "METRICS = frozenset([*COUNT, *PERCENT])\n",
    "\n",
    "SCHEMA = {\n",
    "    'app': 'category',\n",
    "    'policy_area': 'category',\n",
    "    'metric': 'category',\n",
    "    'period': 'period[Q]',\n",
    "    'value': 'string',\n",
    "}\n",
    "\n",
    "def extract_count(df):\n",
    "    return (\n",
    "        df.loc[df['metric'].isin(COUNT), 'value']\n",
    "        .str.replace(',', '')\n",
    "        .astype('UInt64')\n",
    "    )\n",
    "\n",
    "def extract_percent(df):\n",
    "    return (\n",
    "        df.loc[df['metric'].isin(PERCENT), 'value']\n",
    "        .str.rstrip('%')\n",
    "        .astype('float')\n",
    "    )\n",
    "\n",
    "def loadQ(quarter, year=2022):\n",
    "    df = (\n",
    "        pd.read_csv(f'data/meta-q{quarter}-{year}.csv', dtype=SCHEMA)\n",
    "        .assign(count=extract_count)\n",
    "        .assign(percent=extract_percent)\n",
    "    )\n",
    "    assert set(df['metric'].unique() == METRICS)\n",
    "    return df\n",
    "\n",
    "meta = loadQ(3)\n",
    "display(HTML('<h1>Meta</h1><h2>Meta: Q3 Data Overview</h2>'))\n",
    "display(meta.info())"
   ]
  },
  {
   "cell_type": "code",
   "execution_count": 2,
   "metadata": {},
   "outputs": [
    {
     "data": {
      "text/html": [
       "<h2>Meta: Differences between Q2 and Q3</h2>"
      ],
      "text/plain": [
       "<IPython.core.display.HTML object>"
      ]
     },
     "metadata": {},
     "output_type": "display_data"
    },
    {
     "name": "stdout",
     "output_type": "stream",
     "text": [
      "113 entries differ between Q2 and Q3 2022\n"
     ]
    }
   ],
   "source": [
    "# Compare the Q2 2022 and Q3 2022 datasets:\n",
    "# \n",
    "#  1. Since the latter obviously contains additional entries, we first perform\n",
    "#     an inner join on all columns but value, count, and percent. The join\n",
    "#     appends 2 for the Q2 versions of value, count, and percent as well as 3 for\n",
    "#     the Q3 versions.\n",
    "#  2. Since N/A is incomparable even with itself, we next drop all rows where both\n",
    "#     value2 and value3 are N/A.\n",
    "#  3. Since integers may be written with or without thousands separators and\n",
    "#     percent values with or without trailing zeros after the decimal, we drop rows\n",
    "#     with different count2 and count3 for counted metrics and different percent2\n",
    "#     and percent3 for fractional metrics.\n",
    "\n",
    "diff = (\n",
    "    pd.merge(\n",
    "        loadQ(2),\n",
    "        meta,\n",
    "        how='inner',\n",
    "        on=['app', 'policy_area', 'metric', 'period'],\n",
    "        suffixes=('2', '3'),\n",
    "    )\n",
    "    .query('not value2.isna() or not value3.isna()')\n",
    "    .query(\n",
    "        'metric in @COUNT and count2 != count3 '\n",
    "        'or metric in @PERCENT and percent2 != percent3'\n",
    "    )\n",
    "    .sort_values(['period', 'metric', 'policy_area'])\n",
    ")\n",
    "\n",
    "display(HTML('<h2>Meta: Differences between Q2 and Q3</h2>'))\n",
    "print(len(diff), 'entries differ between Q2 and Q3 2022')"
   ]
  },
  {
   "cell_type": "code",
   "execution_count": 3,
   "metadata": {},
   "outputs": [
    {
     "name": "stdout",
     "output_type": "stream",
     "text": [
      "Different entries per period, counts only, fractions only\n"
     ]
    },
    {
     "data": {
      "text/html": [
       "<div>\n",
       "<style scoped>\n",
       "    .dataframe tbody tr th:only-of-type {\n",
       "        vertical-align: middle;\n",
       "    }\n",
       "\n",
       "    .dataframe tbody tr th {\n",
       "        vertical-align: top;\n",
       "    }\n",
       "\n",
       "    .dataframe thead th {\n",
       "        text-align: right;\n",
       "    }\n",
       "</style>\n",
       "<table border=\"1\" class=\"dataframe\">\n",
       "  <thead>\n",
       "    <tr style=\"text-align: right;\">\n",
       "      <th></th>\n",
       "      <th>value2</th>\n",
       "      <th>count2</th>\n",
       "      <th>percent2</th>\n",
       "    </tr>\n",
       "    <tr>\n",
       "      <th>period</th>\n",
       "      <th></th>\n",
       "      <th></th>\n",
       "      <th></th>\n",
       "    </tr>\n",
       "  </thead>\n",
       "  <tbody>\n",
       "    <tr>\n",
       "      <th>2020Q4</th>\n",
       "      <td>77</td>\n",
       "      <td>58</td>\n",
       "      <td>19</td>\n",
       "    </tr>\n",
       "    <tr>\n",
       "      <th>2021Q1</th>\n",
       "      <td>3</td>\n",
       "      <td>0</td>\n",
       "      <td>3</td>\n",
       "    </tr>\n",
       "    <tr>\n",
       "      <th>2021Q2</th>\n",
       "      <td>4</td>\n",
       "      <td>0</td>\n",
       "      <td>4</td>\n",
       "    </tr>\n",
       "    <tr>\n",
       "      <th>2022Q2</th>\n",
       "      <td>29</td>\n",
       "      <td>27</td>\n",
       "      <td>2</td>\n",
       "    </tr>\n",
       "  </tbody>\n",
       "</table>\n",
       "</div>"
      ],
      "text/plain": [
       "        value2  count2  percent2\n",
       "period                          \n",
       "2020Q4      77      58        19\n",
       "2021Q1       3       0         3\n",
       "2021Q2       4       0         4\n",
       "2022Q2      29      27         2"
      ]
     },
     "metadata": {},
     "output_type": "display_data"
    }
   ],
   "source": [
    "print('Different entries per period, counts only, fractions only')\n",
    "display(diff[['period', 'value2', 'count2', 'percent2']].groupby('period').count())"
   ]
  },
  {
   "cell_type": "code",
   "execution_count": 4,
   "metadata": {},
   "outputs": [
    {
     "name": "stdout",
     "output_type": "stream",
     "text": [
      "For 58 divergent entries from Q4 2020 with counts:\n",
      "min diff -50.00%\n",
      "max diff  -0.14%\n"
     ]
    }
   ],
   "source": [
    "q42020 = (\n",
    "    diff[diff['period'].astype(str) == '2020Q4']\n",
    "    .query('metric in @COUNT')\n",
    "    .drop(columns=['value2', 'value3', 'percent2', 'percent3'])\n",
    ")\n",
    "q42020['delta'] = q42020[['count2', 'count3']].pct_change(axis=1)['count3'] * 100.0\n",
    "\n",
    "min = q42020['delta'].min()\n",
    "max = q42020['delta'].max()\n",
    "\n",
    "print('For', len(q42020), 'divergent entries from Q4 2020 with counts:')\n",
    "print('min diff', f'{min:6.2f}%')\n",
    "print('max diff', f'{max:6.2f}%')"
   ]
  },
  {
   "cell_type": "code",
   "execution_count": 5,
   "metadata": {},
   "outputs": [
    {
     "data": {
      "text/html": [
       "<h2>Meta: CSAM Pieces Per Quarter</h2>"
      ],
      "text/plain": [
       "<IPython.core.display.HTML object>"
      ]
     },
     "metadata": {},
     "output_type": "display_data"
    },
    {
     "data": {
      "text/html": [
       "<style type=\"text/css\">\n",
       "</style>\n",
       "<table id=\"T_41848\">\n",
       "  <thead>\n",
       "    <tr>\n",
       "      <th class=\"blank level0\" >&nbsp;</th>\n",
       "      <th id=\"T_41848_level0_col0\" class=\"col_heading level0 col0\" >count</th>\n",
       "    </tr>\n",
       "    <tr>\n",
       "      <th class=\"index_name level0\" >period</th>\n",
       "      <th class=\"blank col0\" >&nbsp;</th>\n",
       "    </tr>\n",
       "  </thead>\n",
       "  <tbody>\n",
       "    <tr>\n",
       "      <th id=\"T_41848_level0_row0\" class=\"row_heading level0 row0\" >2017Q4</th>\n",
       "      <td id=\"T_41848_row0_col0\" class=\"data row0 col0\" >0</td>\n",
       "    </tr>\n",
       "    <tr>\n",
       "      <th id=\"T_41848_level0_row1\" class=\"row_heading level0 row1\" >2018Q1</th>\n",
       "      <td id=\"T_41848_row1_col0\" class=\"data row1 col0\" >0</td>\n",
       "    </tr>\n",
       "    <tr>\n",
       "      <th id=\"T_41848_level0_row2\" class=\"row_heading level0 row2\" >2018Q2</th>\n",
       "      <td id=\"T_41848_row2_col0\" class=\"data row2 col0\" >0</td>\n",
       "    </tr>\n",
       "    <tr>\n",
       "      <th id=\"T_41848_level0_row3\" class=\"row_heading level0 row3\" >2018Q3</th>\n",
       "      <td id=\"T_41848_row3_col0\" class=\"data row3 col0\" >9,000,000</td>\n",
       "    </tr>\n",
       "    <tr>\n",
       "      <th id=\"T_41848_level0_row4\" class=\"row_heading level0 row4\" >2018Q4</th>\n",
       "      <td id=\"T_41848_row4_col0\" class=\"data row4 col0\" >7,200,000</td>\n",
       "    </tr>\n",
       "    <tr>\n",
       "      <th id=\"T_41848_level0_row5\" class=\"row_heading level0 row5\" >2019Q1</th>\n",
       "      <td id=\"T_41848_row5_col0\" class=\"data row5 col0\" >5,800,000</td>\n",
       "    </tr>\n",
       "    <tr>\n",
       "      <th id=\"T_41848_level0_row6\" class=\"row_heading level0 row6\" >2019Q2</th>\n",
       "      <td id=\"T_41848_row6_col0\" class=\"data row6 col0\" >7,426,200</td>\n",
       "    </tr>\n",
       "    <tr>\n",
       "      <th id=\"T_41848_level0_row7\" class=\"row_heading level0 row7\" >2019Q3</th>\n",
       "      <td id=\"T_41848_row7_col0\" class=\"data row7 col0\" >12,155,800</td>\n",
       "    </tr>\n",
       "    <tr>\n",
       "      <th id=\"T_41848_level0_row8\" class=\"row_heading level0 row8\" >2019Q4</th>\n",
       "      <td id=\"T_41848_row8_col0\" class=\"data row8 col0\" >13,986,400</td>\n",
       "    </tr>\n",
       "    <tr>\n",
       "      <th id=\"T_41848_level0_row9\" class=\"row_heading level0 row9\" >2020Q1</th>\n",
       "      <td id=\"T_41848_row9_col0\" class=\"data row9 col0\" >9,500,000</td>\n",
       "    </tr>\n",
       "    <tr>\n",
       "      <th id=\"T_41848_level0_row10\" class=\"row_heading level0 row10\" >2020Q2</th>\n",
       "      <td id=\"T_41848_row10_col0\" class=\"data row10 col0\" >2,958,200</td>\n",
       "    </tr>\n",
       "    <tr>\n",
       "      <th id=\"T_41848_level0_row11\" class=\"row_heading level0 row11\" >2020Q3</th>\n",
       "      <td id=\"T_41848_row11_col0\" class=\"data row11 col0\" >10,770,600</td>\n",
       "    </tr>\n",
       "    <tr>\n",
       "      <th id=\"T_41848_level0_row12\" class=\"row_heading level0 row12\" >2020Q4</th>\n",
       "      <td id=\"T_41848_row12_col0\" class=\"data row12 col0\" >4,958,900</td>\n",
       "    </tr>\n",
       "    <tr>\n",
       "      <th id=\"T_41848_level0_row13\" class=\"row_heading level0 row13\" >2021Q1</th>\n",
       "      <td id=\"T_41848_row13_col0\" class=\"data row13 col0\" >5,812,400</td>\n",
       "    </tr>\n",
       "    <tr>\n",
       "      <th id=\"T_41848_level0_row14\" class=\"row_heading level0 row14\" >2021Q2</th>\n",
       "      <td id=\"T_41848_row14_col0\" class=\"data row14 col0\" >27,000,000</td>\n",
       "    </tr>\n",
       "    <tr>\n",
       "      <th id=\"T_41848_level0_row15\" class=\"row_heading level0 row15\" >2021Q3</th>\n",
       "      <td id=\"T_41848_row15_col0\" class=\"data row15 col0\" >22,800,000</td>\n",
       "    </tr>\n",
       "    <tr>\n",
       "      <th id=\"T_41848_level0_row16\" class=\"row_heading level0 row16\" >2021Q4</th>\n",
       "      <td id=\"T_41848_row16_col0\" class=\"data row16 col0\" >22,400,000</td>\n",
       "    </tr>\n",
       "    <tr>\n",
       "      <th id=\"T_41848_level0_row17\" class=\"row_heading level0 row17\" >2022Q1</th>\n",
       "      <td id=\"T_41848_row17_col0\" class=\"data row17 col0\" >18,000,000</td>\n",
       "    </tr>\n",
       "    <tr>\n",
       "      <th id=\"T_41848_level0_row18\" class=\"row_heading level0 row18\" >2022Q2</th>\n",
       "      <td id=\"T_41848_row18_col0\" class=\"data row18 col0\" >21,600,000</td>\n",
       "    </tr>\n",
       "    <tr>\n",
       "      <th id=\"T_41848_level0_row19\" class=\"row_heading level0 row19\" >2022Q3</th>\n",
       "      <td id=\"T_41848_row19_col0\" class=\"data row19 col0\" >31,400,000</td>\n",
       "    </tr>\n",
       "  </tbody>\n",
       "</table>\n"
      ],
      "text/plain": [
       "<pandas.io.formats.style.Styler at 0x12c13e990>"
      ]
     },
     "metadata": {},
     "output_type": "display_data"
    }
   ],
   "source": [
    "CSAM = (\n",
    "    'Child Nudity & Sexual Exploitation',\n",
    "    # -- End Q1 2021 -- Start Q2 2021 --\n",
    "    'Child Endangerment: Sexual Exploitation',\n",
    ")\n",
    "\n",
    "csam = (\n",
    "    meta.query('policy_area in @CSAM and metric == \"Content Actioned\"')\n",
    "    .drop(columns=['app', 'policy_area', 'metric', 'value', 'percent'])\n",
    "    .set_index('period')\n",
    "    .pipe(lambda df: df.groupby(df.index).sum())\n",
    ")\n",
    "\n",
    "display(HTML('<h2>Meta: CSAM Pieces Per Quarter</h2>'))\n",
    "display(csam.style.format('{:,}'))"
   ]
  },
  {
   "cell_type": "code",
   "execution_count": 6,
   "metadata": {},
   "outputs": [
    {
     "data": {
      "text/html": [
       "<h2>Meta: CSAM Pieces Per Year</h2>"
      ],
      "text/plain": [
       "<IPython.core.display.HTML object>"
      ]
     },
     "metadata": {},
     "output_type": "display_data"
    },
    {
     "data": {
      "text/html": [
       "<style type=\"text/css\">\n",
       "</style>\n",
       "<table id=\"T_ce953\">\n",
       "  <thead>\n",
       "    <tr>\n",
       "      <th class=\"blank level0\" >&nbsp;</th>\n",
       "      <th id=\"T_ce953_level0_col0\" class=\"col_heading level0 col0\" >count</th>\n",
       "    </tr>\n",
       "    <tr>\n",
       "      <th class=\"index_name level0\" >period</th>\n",
       "      <th class=\"blank col0\" >&nbsp;</th>\n",
       "    </tr>\n",
       "  </thead>\n",
       "  <tbody>\n",
       "    <tr>\n",
       "      <th id=\"T_ce953_level0_row0\" class=\"row_heading level0 row0\" >2017</th>\n",
       "      <td id=\"T_ce953_row0_col0\" class=\"data row0 col0\" >0</td>\n",
       "    </tr>\n",
       "    <tr>\n",
       "      <th id=\"T_ce953_level0_row1\" class=\"row_heading level0 row1\" >2018</th>\n",
       "      <td id=\"T_ce953_row1_col0\" class=\"data row1 col0\" >16,200,000</td>\n",
       "    </tr>\n",
       "    <tr>\n",
       "      <th id=\"T_ce953_level0_row2\" class=\"row_heading level0 row2\" >2019</th>\n",
       "      <td id=\"T_ce953_row2_col0\" class=\"data row2 col0\" >39,368,400</td>\n",
       "    </tr>\n",
       "    <tr>\n",
       "      <th id=\"T_ce953_level0_row3\" class=\"row_heading level0 row3\" >2020</th>\n",
       "      <td id=\"T_ce953_row3_col0\" class=\"data row3 col0\" >28,187,700</td>\n",
       "    </tr>\n",
       "    <tr>\n",
       "      <th id=\"T_ce953_level0_row4\" class=\"row_heading level0 row4\" >2021</th>\n",
       "      <td id=\"T_ce953_row4_col0\" class=\"data row4 col0\" >78,012,400</td>\n",
       "    </tr>\n",
       "    <tr>\n",
       "      <th id=\"T_ce953_level0_row5\" class=\"row_heading level0 row5\" >2022</th>\n",
       "      <td id=\"T_ce953_row5_col0\" class=\"data row5 col0\" >71,000,000</td>\n",
       "    </tr>\n",
       "  </tbody>\n",
       "</table>\n"
      ],
      "text/plain": [
       "<pandas.io.formats.style.Styler at 0x110a17750>"
      ]
     },
     "metadata": {},
     "output_type": "display_data"
    }
   ],
   "source": [
    "yearly = csam.groupby(csam.index.year).sum()\n",
    "\n",
    "display(HTML('<h2>Meta: CSAM Pieces Per Year</h2>'))\n",
    "display(yearly.style.format('{:,}'))"
   ]
  }
 ],
 "metadata": {
  "kernelspec": {
   "display_name": ".venv",
   "language": "python",
   "name": "python3"
  },
  "language_info": {
   "codemirror_mode": {
    "name": "ipython",
    "version": 3
   },
   "file_extension": ".py",
   "mimetype": "text/x-python",
   "name": "python",
   "nbconvert_exporter": "python",
   "pygments_lexer": "ipython3",
   "version": "3.11.1"
  },
  "orig_nbformat": 4,
  "vscode": {
   "interpreter": {
    "hash": "9ce88fbad2d8af4b50a35b243c99433d2f07521cad157880d48b76fb421ca102"
   }
  }
 },
 "nbformat": 4,
 "nbformat_minor": 2
}
