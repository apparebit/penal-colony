{
 "cells": [
  {
   "cell_type": "code",
   "execution_count": 1,
   "metadata": {},
   "outputs": [
    {
     "data": {
      "text/html": [
       "<h1>Meta</h1><h2>Meta: Q3 Data Overview</h2>"
      ],
      "text/plain": [
       "<IPython.core.display.HTML object>"
      ]
     },
     "metadata": {},
     "output_type": "display_data"
    },
    {
     "name": "stdout",
     "output_type": "stream",
     "text": [
      "<class 'pandas.core.frame.DataFrame'>\n",
      "RangeIndex: 2780 entries, 0 to 2779\n",
      "Data columns (total 7 columns):\n",
      " #   Column       Non-Null Count  Dtype        \n",
      "---  ------       --------------  -----        \n",
      " 0   app          2780 non-null   category     \n",
      " 1   policy_area  2780 non-null   category     \n",
      " 2   metric       2780 non-null   category     \n",
      " 3   period       2780 non-null   period[Q-DEC]\n",
      " 4   value        1788 non-null   string       \n",
      " 5   count        1243 non-null   UInt64       \n",
      " 6   percent      545 non-null    float64      \n",
      "dtypes: UInt64(1), category(3), float64(1), period[Q-DEC](1), string(1)\n",
      "memory usage: 98.4 KB\n"
     ]
    },
    {
     "data": {
      "text/plain": [
       "None"
      ]
     },
     "metadata": {},
     "output_type": "display_data"
    },
    {
     "data": {
      "text/html": [
       "<h2>Meta: Differences between Q2 and Q3</h2>"
      ],
      "text/plain": [
       "<IPython.core.display.HTML object>"
      ]
     },
     "metadata": {},
     "output_type": "display_data"
    },
    {
     "name": "stdout",
     "output_type": "stream",
     "text": [
      "113 entries differ between Q2 and Q3 2022\n",
      "Different entries per period, counts only, fractions only\n"
     ]
    },
    {
     "data": {
      "text/html": [
       "<div>\n",
       "<style scoped>\n",
       "    .dataframe tbody tr th:only-of-type {\n",
       "        vertical-align: middle;\n",
       "    }\n",
       "\n",
       "    .dataframe tbody tr th {\n",
       "        vertical-align: top;\n",
       "    }\n",
       "\n",
       "    .dataframe thead th {\n",
       "        text-align: right;\n",
       "    }\n",
       "</style>\n",
       "<table border=\"1\" class=\"dataframe\">\n",
       "  <thead>\n",
       "    <tr style=\"text-align: right;\">\n",
       "      <th></th>\n",
       "      <th>value2</th>\n",
       "      <th>count2</th>\n",
       "      <th>percent2</th>\n",
       "    </tr>\n",
       "    <tr>\n",
       "      <th>period</th>\n",
       "      <th></th>\n",
       "      <th></th>\n",
       "      <th></th>\n",
       "    </tr>\n",
       "  </thead>\n",
       "  <tbody>\n",
       "    <tr>\n",
       "      <th>2020Q4</th>\n",
       "      <td>77</td>\n",
       "      <td>58</td>\n",
       "      <td>19</td>\n",
       "    </tr>\n",
       "    <tr>\n",
       "      <th>2021Q1</th>\n",
       "      <td>3</td>\n",
       "      <td>0</td>\n",
       "      <td>3</td>\n",
       "    </tr>\n",
       "    <tr>\n",
       "      <th>2021Q2</th>\n",
       "      <td>4</td>\n",
       "      <td>0</td>\n",
       "      <td>4</td>\n",
       "    </tr>\n",
       "    <tr>\n",
       "      <th>2022Q2</th>\n",
       "      <td>29</td>\n",
       "      <td>27</td>\n",
       "      <td>2</td>\n",
       "    </tr>\n",
       "  </tbody>\n",
       "</table>\n",
       "</div>"
      ],
      "text/plain": [
       "        value2  count2  percent2\n",
       "period                          \n",
       "2020Q4      77      58        19\n",
       "2021Q1       3       0         3\n",
       "2021Q2       4       0         4\n",
       "2022Q2      29      27         2"
      ]
     },
     "metadata": {},
     "output_type": "display_data"
    },
    {
     "name": "stdout",
     "output_type": "stream",
     "text": [
      "For 58 divergent entries from Q4 2020 with counts:\n",
      "min diff -50.00%\n",
      "max diff  -0.14%\n"
     ]
    },
    {
     "data": {
      "text/html": [
       "<h2>Meta: CSAM Pieces Per Quarter</h2>"
      ],
      "text/plain": [
       "<IPython.core.display.HTML object>"
      ]
     },
     "metadata": {},
     "output_type": "display_data"
    },
    {
     "data": {
      "text/html": [
       "<style type=\"text/css\">\n",
       "</style>\n",
       "<table id=\"T_f50db\">\n",
       "  <thead>\n",
       "    <tr>\n",
       "      <th class=\"blank level0\" >&nbsp;</th>\n",
       "      <th id=\"T_f50db_level0_col0\" class=\"col_heading level0 col0\" >count</th>\n",
       "    </tr>\n",
       "    <tr>\n",
       "      <th class=\"index_name level0\" >period</th>\n",
       "      <th class=\"blank col0\" >&nbsp;</th>\n",
       "    </tr>\n",
       "  </thead>\n",
       "  <tbody>\n",
       "    <tr>\n",
       "      <th id=\"T_f50db_level0_row0\" class=\"row_heading level0 row0\" >2017Q4</th>\n",
       "      <td id=\"T_f50db_row0_col0\" class=\"data row0 col0\" >0</td>\n",
       "    </tr>\n",
       "    <tr>\n",
       "      <th id=\"T_f50db_level0_row1\" class=\"row_heading level0 row1\" >2018Q1</th>\n",
       "      <td id=\"T_f50db_row1_col0\" class=\"data row1 col0\" >0</td>\n",
       "    </tr>\n",
       "    <tr>\n",
       "      <th id=\"T_f50db_level0_row2\" class=\"row_heading level0 row2\" >2018Q2</th>\n",
       "      <td id=\"T_f50db_row2_col0\" class=\"data row2 col0\" >0</td>\n",
       "    </tr>\n",
       "    <tr>\n",
       "      <th id=\"T_f50db_level0_row3\" class=\"row_heading level0 row3\" >2018Q3</th>\n",
       "      <td id=\"T_f50db_row3_col0\" class=\"data row3 col0\" >9,000,000</td>\n",
       "    </tr>\n",
       "    <tr>\n",
       "      <th id=\"T_f50db_level0_row4\" class=\"row_heading level0 row4\" >2018Q4</th>\n",
       "      <td id=\"T_f50db_row4_col0\" class=\"data row4 col0\" >7,200,000</td>\n",
       "    </tr>\n",
       "    <tr>\n",
       "      <th id=\"T_f50db_level0_row5\" class=\"row_heading level0 row5\" >2019Q1</th>\n",
       "      <td id=\"T_f50db_row5_col0\" class=\"data row5 col0\" >5,800,000</td>\n",
       "    </tr>\n",
       "    <tr>\n",
       "      <th id=\"T_f50db_level0_row6\" class=\"row_heading level0 row6\" >2019Q2</th>\n",
       "      <td id=\"T_f50db_row6_col0\" class=\"data row6 col0\" >7,426,200</td>\n",
       "    </tr>\n",
       "    <tr>\n",
       "      <th id=\"T_f50db_level0_row7\" class=\"row_heading level0 row7\" >2019Q3</th>\n",
       "      <td id=\"T_f50db_row7_col0\" class=\"data row7 col0\" >12,155,800</td>\n",
       "    </tr>\n",
       "    <tr>\n",
       "      <th id=\"T_f50db_level0_row8\" class=\"row_heading level0 row8\" >2019Q4</th>\n",
       "      <td id=\"T_f50db_row8_col0\" class=\"data row8 col0\" >13,986,400</td>\n",
       "    </tr>\n",
       "    <tr>\n",
       "      <th id=\"T_f50db_level0_row9\" class=\"row_heading level0 row9\" >2020Q1</th>\n",
       "      <td id=\"T_f50db_row9_col0\" class=\"data row9 col0\" >9,500,000</td>\n",
       "    </tr>\n",
       "    <tr>\n",
       "      <th id=\"T_f50db_level0_row10\" class=\"row_heading level0 row10\" >2020Q2</th>\n",
       "      <td id=\"T_f50db_row10_col0\" class=\"data row10 col0\" >2,958,200</td>\n",
       "    </tr>\n",
       "    <tr>\n",
       "      <th id=\"T_f50db_level0_row11\" class=\"row_heading level0 row11\" >2020Q3</th>\n",
       "      <td id=\"T_f50db_row11_col0\" class=\"data row11 col0\" >10,770,600</td>\n",
       "    </tr>\n",
       "    <tr>\n",
       "      <th id=\"T_f50db_level0_row12\" class=\"row_heading level0 row12\" >2020Q4</th>\n",
       "      <td id=\"T_f50db_row12_col0\" class=\"data row12 col0\" >4,958,900</td>\n",
       "    </tr>\n",
       "    <tr>\n",
       "      <th id=\"T_f50db_level0_row13\" class=\"row_heading level0 row13\" >2021Q1</th>\n",
       "      <td id=\"T_f50db_row13_col0\" class=\"data row13 col0\" >5,812,400</td>\n",
       "    </tr>\n",
       "    <tr>\n",
       "      <th id=\"T_f50db_level0_row14\" class=\"row_heading level0 row14\" >2021Q2</th>\n",
       "      <td id=\"T_f50db_row14_col0\" class=\"data row14 col0\" >27,000,000</td>\n",
       "    </tr>\n",
       "    <tr>\n",
       "      <th id=\"T_f50db_level0_row15\" class=\"row_heading level0 row15\" >2021Q3</th>\n",
       "      <td id=\"T_f50db_row15_col0\" class=\"data row15 col0\" >22,800,000</td>\n",
       "    </tr>\n",
       "    <tr>\n",
       "      <th id=\"T_f50db_level0_row16\" class=\"row_heading level0 row16\" >2021Q4</th>\n",
       "      <td id=\"T_f50db_row16_col0\" class=\"data row16 col0\" >22,400,000</td>\n",
       "    </tr>\n",
       "    <tr>\n",
       "      <th id=\"T_f50db_level0_row17\" class=\"row_heading level0 row17\" >2022Q1</th>\n",
       "      <td id=\"T_f50db_row17_col0\" class=\"data row17 col0\" >18,000,000</td>\n",
       "    </tr>\n",
       "    <tr>\n",
       "      <th id=\"T_f50db_level0_row18\" class=\"row_heading level0 row18\" >2022Q2</th>\n",
       "      <td id=\"T_f50db_row18_col0\" class=\"data row18 col0\" >21,600,000</td>\n",
       "    </tr>\n",
       "    <tr>\n",
       "      <th id=\"T_f50db_level0_row19\" class=\"row_heading level0 row19\" >2022Q3</th>\n",
       "      <td id=\"T_f50db_row19_col0\" class=\"data row19 col0\" >31,400,000</td>\n",
       "    </tr>\n",
       "  </tbody>\n",
       "</table>\n"
      ],
      "text/plain": [
       "<pandas.io.formats.style.Styler at 0x113897250>"
      ]
     },
     "metadata": {},
     "output_type": "display_data"
    },
    {
     "data": {
      "text/html": [
       "<h2>Meta: CSAM Pieces Per Year</h2>"
      ],
      "text/plain": [
       "<IPython.core.display.HTML object>"
      ]
     },
     "metadata": {},
     "output_type": "display_data"
    },
    {
     "data": {
      "text/html": [
       "<style type=\"text/css\">\n",
       "</style>\n",
       "<table id=\"T_b4d20\">\n",
       "  <thead>\n",
       "    <tr>\n",
       "      <th class=\"blank level0\" >&nbsp;</th>\n",
       "      <th id=\"T_b4d20_level0_col0\" class=\"col_heading level0 col0\" >count</th>\n",
       "    </tr>\n",
       "    <tr>\n",
       "      <th class=\"index_name level0\" >period</th>\n",
       "      <th class=\"blank col0\" >&nbsp;</th>\n",
       "    </tr>\n",
       "  </thead>\n",
       "  <tbody>\n",
       "    <tr>\n",
       "      <th id=\"T_b4d20_level0_row0\" class=\"row_heading level0 row0\" >2017</th>\n",
       "      <td id=\"T_b4d20_row0_col0\" class=\"data row0 col0\" >0</td>\n",
       "    </tr>\n",
       "    <tr>\n",
       "      <th id=\"T_b4d20_level0_row1\" class=\"row_heading level0 row1\" >2018</th>\n",
       "      <td id=\"T_b4d20_row1_col0\" class=\"data row1 col0\" >16,200,000</td>\n",
       "    </tr>\n",
       "    <tr>\n",
       "      <th id=\"T_b4d20_level0_row2\" class=\"row_heading level0 row2\" >2019</th>\n",
       "      <td id=\"T_b4d20_row2_col0\" class=\"data row2 col0\" >39,368,400</td>\n",
       "    </tr>\n",
       "    <tr>\n",
       "      <th id=\"T_b4d20_level0_row3\" class=\"row_heading level0 row3\" >2020</th>\n",
       "      <td id=\"T_b4d20_row3_col0\" class=\"data row3 col0\" >28,187,700</td>\n",
       "    </tr>\n",
       "    <tr>\n",
       "      <th id=\"T_b4d20_level0_row4\" class=\"row_heading level0 row4\" >2021</th>\n",
       "      <td id=\"T_b4d20_row4_col0\" class=\"data row4 col0\" >78,012,400</td>\n",
       "    </tr>\n",
       "    <tr>\n",
       "      <th id=\"T_b4d20_level0_row5\" class=\"row_heading level0 row5\" >2022</th>\n",
       "      <td id=\"T_b4d20_row5_col0\" class=\"data row5 col0\" >71,000,000</td>\n",
       "    </tr>\n",
       "  </tbody>\n",
       "</table>\n"
      ],
      "text/plain": [
       "<pandas.io.formats.style.Styler at 0x123360650>"
      ]
     },
     "metadata": {},
     "output_type": "display_data"
    }
   ],
   "source": [
    "%run meta.ipynb"
   ]
  },
  {
   "cell_type": "code",
   "execution_count": 2,
   "metadata": {},
   "outputs": [
    {
     "data": {
      "text/html": [
       "<h1>TikTok</h1><h2>TikTok: Historical video removals</h2>"
      ],
      "text/plain": [
       "<IPython.core.display.HTML object>"
      ]
     },
     "metadata": {},
     "output_type": "display_data"
    },
    {
     "data": {
      "text/html": [
       "<div>\n",
       "<style scoped>\n",
       "    .dataframe tbody tr th:only-of-type {\n",
       "        vertical-align: middle;\n",
       "    }\n",
       "\n",
       "    .dataframe tbody tr th {\n",
       "        vertical-align: top;\n",
       "    }\n",
       "\n",
       "    .dataframe thead th {\n",
       "        text-align: right;\n",
       "    }\n",
       "</style>\n",
       "<table border=\"1\" class=\"dataframe\">\n",
       "  <thead>\n",
       "    <tr style=\"text-align: right;\">\n",
       "      <th></th>\n",
       "      <th>Removed</th>\n",
       "      <th>Autoremoved</th>\n",
       "      <th>Restored</th>\n",
       "      <th>Autoremoved_pct</th>\n",
       "    </tr>\n",
       "    <tr>\n",
       "      <th>Quarter</th>\n",
       "      <th></th>\n",
       "      <th></th>\n",
       "      <th></th>\n",
       "      <th></th>\n",
       "    </tr>\n",
       "  </thead>\n",
       "  <tbody>\n",
       "    <tr>\n",
       "      <th>2020Q3</th>\n",
       "      <td>43086543</td>\n",
       "      <td>3370913</td>\n",
       "      <td>1315135</td>\n",
       "      <td>7.823587</td>\n",
       "    </tr>\n",
       "    <tr>\n",
       "      <th>2020Q4</th>\n",
       "      <td>46112104</td>\n",
       "      <td>4923971</td>\n",
       "      <td>1612146</td>\n",
       "      <td>10.678261</td>\n",
       "    </tr>\n",
       "    <tr>\n",
       "      <th>2021Q1</th>\n",
       "      <td>61951327</td>\n",
       "      <td>8832345</td>\n",
       "      <td>2833837</td>\n",
       "      <td>14.256910</td>\n",
       "    </tr>\n",
       "    <tr>\n",
       "      <th>2021Q2</th>\n",
       "      <td>81518334</td>\n",
       "      <td>16957950</td>\n",
       "      <td>4663387</td>\n",
       "      <td>20.802621</td>\n",
       "    </tr>\n",
       "    <tr>\n",
       "      <th>2021Q3</th>\n",
       "      <td>91445802</td>\n",
       "      <td>31009160</td>\n",
       "      <td>5535378</td>\n",
       "      <td>33.909878</td>\n",
       "    </tr>\n",
       "    <tr>\n",
       "      <th>2021Q4</th>\n",
       "      <td>85794222</td>\n",
       "      <td>28389936</td>\n",
       "      <td>4727382</td>\n",
       "      <td>33.090732</td>\n",
       "    </tr>\n",
       "    <tr>\n",
       "      <th>2022Q1</th>\n",
       "      <td>102305516</td>\n",
       "      <td>34726592</td>\n",
       "      <td>5025536</td>\n",
       "      <td>33.944007</td>\n",
       "    </tr>\n",
       "    <tr>\n",
       "      <th>2022Q2</th>\n",
       "      <td>113809300</td>\n",
       "      <td>48011571</td>\n",
       "      <td>5896218</td>\n",
       "      <td>42.185982</td>\n",
       "    </tr>\n",
       "    <tr>\n",
       "      <th>2022Q3</th>\n",
       "      <td>110954663</td>\n",
       "      <td>53287839</td>\n",
       "      <td>6937997</td>\n",
       "      <td>48.026678</td>\n",
       "    </tr>\n",
       "  </tbody>\n",
       "</table>\n",
       "</div>"
      ],
      "text/plain": [
       "           Removed  Autoremoved  Restored  Autoremoved_pct\n",
       "Quarter                                                   \n",
       "2020Q3    43086543      3370913   1315135         7.823587\n",
       "2020Q4    46112104      4923971   1612146        10.678261\n",
       "2021Q1    61951327      8832345   2833837        14.256910\n",
       "2021Q2    81518334     16957950   4663387        20.802621\n",
       "2021Q3    91445802     31009160   5535378        33.909878\n",
       "2021Q4    85794222     28389936   4727382        33.090732\n",
       "2022Q1   102305516     34726592   5025536        33.944007\n",
       "2022Q2   113809300     48011571   5896218        42.185982\n",
       "2022Q3   110954663     53287839   6937997        48.026678"
      ]
     },
     "metadata": {},
     "output_type": "display_data"
    },
    {
     "data": {
      "text/html": [
       "<h2>TikTok: Fraction of Automatically Removed Videos in %</h2>"
      ],
      "text/plain": [
       "<IPython.core.display.HTML object>"
      ]
     },
     "metadata": {},
     "output_type": "display_data"
    },
    {
     "data": {
      "image/png": "[encoded data removed]",
      "text/plain": [
       "<Figure size 640x480 with 1 Axes>"
      ]
     },
     "metadata": {},
     "output_type": "display_data"
    }
   ],
   "source": [
    "%run tiktok.ipynb"
   ]
  },
  {
   "cell_type": "code",
   "execution_count": 3,
   "metadata": {},
   "outputs": [
    {
     "data": {
      "text/html": [
       "<h1>CSAM Across the World</h1>"
      ],
      "text/plain": [
       "<IPython.core.display.HTML object>"
      ]
     },
     "metadata": {},
     "output_type": "display_data"
    },
    {
     "name": "stdout",
     "output_type": "stream",
     "text": [
      "243 reports\n",
      "251 countries across 26 continental subregions\n",
      "243 population counts\n",
      "177 countries with geometry\n",
      "main table rows    : 243\n",
      "main table columns : ['iso3' 'reports' 'reports_pct' 'population' 'population_pct' 'country'\n",
      " 'region' 'geometry' 'continent']\n"
     ]
    },
    {
     "data": {
      "text/html": [
       "<h2>CSAM: Validate Merged Data</h2>"
      ],
      "text/plain": [
       "<IPython.core.display.HTML object>"
      ]
     },
     "metadata": {},
     "output_type": "display_data"
    },
    {
     "data": {
      "text/html": [
       "<h2>CSAM: Countries Without Geometry</h2>"
      ],
      "text/plain": [
       "<IPython.core.display.HTML object>"
      ]
     },
     "metadata": {},
     "output_type": "display_data"
    },
    {
     "data": {
      "text/plain": [
       "reports_pct       0.504411\n",
       "population_pct    0.322191\n",
       "dtype: float64"
      ]
     },
     "metadata": {},
     "output_type": "display_data"
    },
    {
     "name": "stdout",
     "output_type": "stream",
     "text": [
      "24 regions\n",
      "6 continents\n"
     ]
    },
    {
     "data": {
      "text/html": [
       "<h2>CSAM: Worst 10 Countries by Number of Reports</h2>"
      ],
      "text/plain": [
       "<IPython.core.display.HTML object>"
      ]
     },
     "metadata": {},
     "output_type": "display_data"
    },
    {
     "data": {
      "text/html": [
       "<div>\n",
       "<style scoped>\n",
       "    .dataframe tbody tr th:only-of-type {\n",
       "        vertical-align: middle;\n",
       "    }\n",
       "\n",
       "    .dataframe tbody tr th {\n",
       "        vertical-align: top;\n",
       "    }\n",
       "\n",
       "    .dataframe thead th {\n",
       "        text-align: right;\n",
       "    }\n",
       "</style>\n",
       "<table border=\"1\" class=\"dataframe\">\n",
       "  <thead>\n",
       "    <tr style=\"text-align: right;\">\n",
       "      <th></th>\n",
       "      <th>iso3</th>\n",
       "      <th>reports</th>\n",
       "      <th>reports_pct</th>\n",
       "      <th>population</th>\n",
       "      <th>population_pct</th>\n",
       "      <th>country</th>\n",
       "      <th>region</th>\n",
       "      <th>continent</th>\n",
       "    </tr>\n",
       "  </thead>\n",
       "  <tbody>\n",
       "    <tr>\n",
       "      <th>0</th>\n",
       "      <td>IND</td>\n",
       "      <td>4699515</td>\n",
       "      <td>15.99</td>\n",
       "      <td>1407563904</td>\n",
       "      <td>17.80</td>\n",
       "      <td>India</td>\n",
       "      <td>Southern Asia</td>\n",
       "      <td>Asia</td>\n",
       "    </tr>\n",
       "    <tr>\n",
       "      <th>1</th>\n",
       "      <td>PHL</td>\n",
       "      <td>3188793</td>\n",
       "      <td>10.85</td>\n",
       "      <td>113880336</td>\n",
       "      <td>1.44</td>\n",
       "      <td>Philippines</td>\n",
       "      <td>South-Eastern Asia</td>\n",
       "      <td>Asia</td>\n",
       "    </tr>\n",
       "    <tr>\n",
       "      <th>2</th>\n",
       "      <td>PAK</td>\n",
       "      <td>2030801</td>\n",
       "      <td>6.91</td>\n",
       "      <td>231402112</td>\n",
       "      <td>2.93</td>\n",
       "      <td>Pakistan</td>\n",
       "      <td>Southern Asia</td>\n",
       "      <td>Asia</td>\n",
       "    </tr>\n",
       "    <tr>\n",
       "      <th>3</th>\n",
       "      <td>USA</td>\n",
       "      <td>1909740</td>\n",
       "      <td>6.50</td>\n",
       "      <td>336997632</td>\n",
       "      <td>4.26</td>\n",
       "      <td>United States of America</td>\n",
       "      <td>North America</td>\n",
       "      <td>Americas</td>\n",
       "    </tr>\n",
       "    <tr>\n",
       "      <th>4</th>\n",
       "      <td>IDN</td>\n",
       "      <td>1861135</td>\n",
       "      <td>6.33</td>\n",
       "      <td>273753184</td>\n",
       "      <td>3.46</td>\n",
       "      <td>Indonesia</td>\n",
       "      <td>South-Eastern Asia</td>\n",
       "      <td>Asia</td>\n",
       "    </tr>\n",
       "    <tr>\n",
       "      <th>5</th>\n",
       "      <td>BGD</td>\n",
       "      <td>1743240</td>\n",
       "      <td>5.93</td>\n",
       "      <td>169356240</td>\n",
       "      <td>2.14</td>\n",
       "      <td>Bangladesh</td>\n",
       "      <td>Southern Asia</td>\n",
       "      <td>Asia</td>\n",
       "    </tr>\n",
       "    <tr>\n",
       "      <th>6</th>\n",
       "      <td>IRQ</td>\n",
       "      <td>1220470</td>\n",
       "      <td>4.15</td>\n",
       "      <td>43533592</td>\n",
       "      <td>0.55</td>\n",
       "      <td>Iraq</td>\n",
       "      <td>Western Asia</td>\n",
       "      <td>Asia</td>\n",
       "    </tr>\n",
       "    <tr>\n",
       "      <th>7</th>\n",
       "      <td>DZA</td>\n",
       "      <td>1171653</td>\n",
       "      <td>3.99</td>\n",
       "      <td>44177964</td>\n",
       "      <td>0.56</td>\n",
       "      <td>Algeria</td>\n",
       "      <td>Northern Africa</td>\n",
       "      <td>Africa</td>\n",
       "    </tr>\n",
       "    <tr>\n",
       "      <th>8</th>\n",
       "      <td>MEX</td>\n",
       "      <td>786215</td>\n",
       "      <td>2.67</td>\n",
       "      <td>126705136</td>\n",
       "      <td>1.60</td>\n",
       "      <td>Mexico</td>\n",
       "      <td>Central America</td>\n",
       "      <td>Americas</td>\n",
       "    </tr>\n",
       "    <tr>\n",
       "      <th>9</th>\n",
       "      <td>VNM</td>\n",
       "      <td>716065</td>\n",
       "      <td>2.44</td>\n",
       "      <td>97468024</td>\n",
       "      <td>1.23</td>\n",
       "      <td>Viet Nam</td>\n",
       "      <td>South-Eastern Asia</td>\n",
       "      <td>Asia</td>\n",
       "    </tr>\n",
       "  </tbody>\n",
       "</table>\n",
       "</div>"
      ],
      "text/plain": [
       "  iso3  reports  reports_pct  population  population_pct  \\\n",
       "0  IND  4699515        15.99  1407563904           17.80   \n",
       "1  PHL  3188793        10.85   113880336            1.44   \n",
       "2  PAK  2030801         6.91   231402112            2.93   \n",
       "3  USA  1909740         6.50   336997632            4.26   \n",
       "4  IDN  1861135         6.33   273753184            3.46   \n",
       "5  BGD  1743240         5.93   169356240            2.14   \n",
       "6  IRQ  1220470         4.15    43533592            0.55   \n",
       "7  DZA  1171653         3.99    44177964            0.56   \n",
       "8  MEX   786215         2.67   126705136            1.60   \n",
       "9  VNM   716065         2.44    97468024            1.23   \n",
       "\n",
       "                    country              region continent  \n",
       "0                     India       Southern Asia      Asia  \n",
       "1               Philippines  South-Eastern Asia      Asia  \n",
       "2                  Pakistan       Southern Asia      Asia  \n",
       "3  United States of America       North America  Americas  \n",
       "4                 Indonesia  South-Eastern Asia      Asia  \n",
       "5                Bangladesh       Southern Asia      Asia  \n",
       "6                      Iraq        Western Asia      Asia  \n",
       "7                   Algeria     Northern Africa    Africa  \n",
       "8                    Mexico     Central America  Americas  \n",
       "9                  Viet Nam  South-Eastern Asia      Asia  "
      ]
     },
     "metadata": {},
     "output_type": "display_data"
    },
    {
     "data": {
      "text/html": [
       "<h2>CSAM: All Regions by Number of Reports</h2>"
      ],
      "text/plain": [
       "<IPython.core.display.HTML object>"
      ]
     },
     "metadata": {},
     "output_type": "display_data"
    },
    {
     "data": {
      "text/html": [
       "<div>\n",
       "<style scoped>\n",
       "    .dataframe tbody tr th:only-of-type {\n",
       "        vertical-align: middle;\n",
       "    }\n",
       "\n",
       "    .dataframe tbody tr th {\n",
       "        vertical-align: top;\n",
       "    }\n",
       "\n",
       "    .dataframe thead th {\n",
       "        text-align: right;\n",
       "    }\n",
       "</style>\n",
       "<table border=\"1\" class=\"dataframe\">\n",
       "  <thead>\n",
       "    <tr style=\"text-align: right;\">\n",
       "      <th></th>\n",
       "      <th>region</th>\n",
       "      <th>reports</th>\n",
       "      <th>reports_pct</th>\n",
       "      <th>population</th>\n",
       "      <th>population_pct</th>\n",
       "      <th>continent</th>\n",
       "    </tr>\n",
       "  </thead>\n",
       "  <tbody>\n",
       "    <tr>\n",
       "      <th>0</th>\n",
       "      <td>Southern Asia</td>\n",
       "      <td>9419913</td>\n",
       "      <td>32.0</td>\n",
       "      <td>1989452543</td>\n",
       "      <td>25.2</td>\n",
       "      <td>Asia</td>\n",
       "    </tr>\n",
       "    <tr>\n",
       "      <th>1</th>\n",
       "      <td>South-Eastern Asia</td>\n",
       "      <td>7665682</td>\n",
       "      <td>26.1</td>\n",
       "      <td>675796083</td>\n",
       "      <td>8.5</td>\n",
       "      <td>Asia</td>\n",
       "    </tr>\n",
       "    <tr>\n",
       "      <th>2</th>\n",
       "      <td>Western Asia</td>\n",
       "      <td>3391946</td>\n",
       "      <td>11.5</td>\n",
       "      <td>288488956</td>\n",
       "      <td>3.6</td>\n",
       "      <td>Asia</td>\n",
       "    </tr>\n",
       "    <tr>\n",
       "      <th>3</th>\n",
       "      <td>Northern Africa</td>\n",
       "      <td>2608377</td>\n",
       "      <td>8.9</td>\n",
       "      <td>255737759</td>\n",
       "      <td>3.2</td>\n",
       "      <td>Africa</td>\n",
       "    </tr>\n",
       "    <tr>\n",
       "      <th>4</th>\n",
       "      <td>North America</td>\n",
       "      <td>1972266</td>\n",
       "      <td>6.7</td>\n",
       "      <td>375279028</td>\n",
       "      <td>4.7</td>\n",
       "      <td>Americas</td>\n",
       "    </tr>\n",
       "    <tr>\n",
       "      <th>5</th>\n",
       "      <td>South America</td>\n",
       "      <td>1538208</td>\n",
       "      <td>5.2</td>\n",
       "      <td>434254167</td>\n",
       "      <td>5.5</td>\n",
       "      <td>Americas</td>\n",
       "    </tr>\n",
       "    <tr>\n",
       "      <th>6</th>\n",
       "      <td>Central America</td>\n",
       "      <td>1003846</td>\n",
       "      <td>3.4</td>\n",
       "      <td>177661937</td>\n",
       "      <td>2.2</td>\n",
       "      <td>Americas</td>\n",
       "    </tr>\n",
       "    <tr>\n",
       "      <th>7</th>\n",
       "      <td>Eastern Europe</td>\n",
       "      <td>303028</td>\n",
       "      <td>1.0</td>\n",
       "      <td>291464156</td>\n",
       "      <td>3.7</td>\n",
       "      <td>Europe</td>\n",
       "    </tr>\n",
       "    <tr>\n",
       "      <th>8</th>\n",
       "      <td>Western Europe</td>\n",
       "      <td>247762</td>\n",
       "      <td>0.8</td>\n",
       "      <td>195381716</td>\n",
       "      <td>2.5</td>\n",
       "      <td>Europe</td>\n",
       "    </tr>\n",
       "    <tr>\n",
       "      <th>9</th>\n",
       "      <td>Southern Europe</td>\n",
       "      <td>192726</td>\n",
       "      <td>0.7</td>\n",
       "      <td>153375211</td>\n",
       "      <td>1.9</td>\n",
       "      <td>Europe</td>\n",
       "    </tr>\n",
       "    <tr>\n",
       "      <th>10</th>\n",
       "      <td>Eastern Asia</td>\n",
       "      <td>192161</td>\n",
       "      <td>0.7</td>\n",
       "      <td>1663696960</td>\n",
       "      <td>21.0</td>\n",
       "      <td>Asia</td>\n",
       "    </tr>\n",
       "    <tr>\n",
       "      <th>11</th>\n",
       "      <td>Caribbean</td>\n",
       "      <td>182738</td>\n",
       "      <td>0.6</td>\n",
       "      <td>44181483</td>\n",
       "      <td>0.6</td>\n",
       "      <td>Americas</td>\n",
       "    </tr>\n",
       "    <tr>\n",
       "      <th>12</th>\n",
       "      <td>Eastern Africa</td>\n",
       "      <td>181069</td>\n",
       "      <td>0.6</td>\n",
       "      <td>461144929</td>\n",
       "      <td>5.8</td>\n",
       "      <td>Africa</td>\n",
       "    </tr>\n",
       "    <tr>\n",
       "      <th>13</th>\n",
       "      <td>Northern Europe</td>\n",
       "      <td>153005</td>\n",
       "      <td>0.5</td>\n",
       "      <td>106054519</td>\n",
       "      <td>1.3</td>\n",
       "      <td>Europe</td>\n",
       "    </tr>\n",
       "    <tr>\n",
       "      <th>14</th>\n",
       "      <td>Western Africa</td>\n",
       "      <td>126909</td>\n",
       "      <td>0.4</td>\n",
       "      <td>418539014</td>\n",
       "      <td>5.3</td>\n",
       "      <td>Africa</td>\n",
       "    </tr>\n",
       "    <tr>\n",
       "      <th>15</th>\n",
       "      <td>Australia and New Zealand</td>\n",
       "      <td>75675</td>\n",
       "      <td>0.3</td>\n",
       "      <td>31052822</td>\n",
       "      <td>0.4</td>\n",
       "      <td>Oceania</td>\n",
       "    </tr>\n",
       "    <tr>\n",
       "      <th>16</th>\n",
       "      <td>Southern Africa</td>\n",
       "      <td>55013</td>\n",
       "      <td>0.2</td>\n",
       "      <td>67984567</td>\n",
       "      <td>0.9</td>\n",
       "      <td>Africa</td>\n",
       "    </tr>\n",
       "    <tr>\n",
       "      <th>17</th>\n",
       "      <td>Central Asia</td>\n",
       "      <td>31939</td>\n",
       "      <td>0.1</td>\n",
       "      <td>75897590</td>\n",
       "      <td>1.0</td>\n",
       "      <td>Asia</td>\n",
       "    </tr>\n",
       "    <tr>\n",
       "      <th>18</th>\n",
       "      <td>Middle Africa</td>\n",
       "      <td>31586</td>\n",
       "      <td>0.1</td>\n",
       "      <td>190268027</td>\n",
       "      <td>2.4</td>\n",
       "      <td>Africa</td>\n",
       "    </tr>\n",
       "    <tr>\n",
       "      <th>19</th>\n",
       "      <td>Melanesia</td>\n",
       "      <td>20506</td>\n",
       "      <td>0.1</td>\n",
       "      <td>12188863</td>\n",
       "      <td>0.2</td>\n",
       "      <td>Oceania</td>\n",
       "    </tr>\n",
       "    <tr>\n",
       "      <th>20</th>\n",
       "      <td>Micronesia</td>\n",
       "      <td>1702</td>\n",
       "      <td>0.0</td>\n",
       "      <td>534732</td>\n",
       "      <td>0.0</td>\n",
       "      <td>Oceania</td>\n",
       "    </tr>\n",
       "    <tr>\n",
       "      <th>21</th>\n",
       "      <td>Polynesia</td>\n",
       "      <td>1357</td>\n",
       "      <td>0.0</td>\n",
       "      <td>717646</td>\n",
       "      <td>0.0</td>\n",
       "      <td>Oceania</td>\n",
       "    </tr>\n",
       "    <tr>\n",
       "      <th>22</th>\n",
       "      <td>Channel Islands</td>\n",
       "      <td>263</td>\n",
       "      <td>0.0</td>\n",
       "      <td>172726</td>\n",
       "      <td>0.0</td>\n",
       "      <td>Europe</td>\n",
       "    </tr>\n",
       "    <tr>\n",
       "      <th>23</th>\n",
       "      <td>Antarctica</td>\n",
       "      <td>4</td>\n",
       "      <td>0.0</td>\n",
       "      <td>0</td>\n",
       "      <td>0.0</td>\n",
       "      <td>Antarctica</td>\n",
       "    </tr>\n",
       "  </tbody>\n",
       "</table>\n",
       "</div>"
      ],
      "text/plain": [
       "                       region  reports  reports_pct  population  \\\n",
       "0               Southern Asia  9419913         32.0  1989452543   \n",
       "1          South-Eastern Asia  7665682         26.1   675796083   \n",
       "2                Western Asia  3391946         11.5   288488956   \n",
       "3             Northern Africa  2608377          8.9   255737759   \n",
       "4               North America  1972266          6.7   375279028   \n",
       "5               South America  1538208          5.2   434254167   \n",
       "6             Central America  1003846          3.4   177661937   \n",
       "7              Eastern Europe   303028          1.0   291464156   \n",
       "8              Western Europe   247762          0.8   195381716   \n",
       "9             Southern Europe   192726          0.7   153375211   \n",
       "10               Eastern Asia   192161          0.7  1663696960   \n",
       "11                  Caribbean   182738          0.6    44181483   \n",
       "12             Eastern Africa   181069          0.6   461144929   \n",
       "13            Northern Europe   153005          0.5   106054519   \n",
       "14             Western Africa   126909          0.4   418539014   \n",
       "15  Australia and New Zealand    75675          0.3    31052822   \n",
       "16            Southern Africa    55013          0.2    67984567   \n",
       "17               Central Asia    31939          0.1    75897590   \n",
       "18              Middle Africa    31586          0.1   190268027   \n",
       "19                  Melanesia    20506          0.1    12188863   \n",
       "20                 Micronesia     1702          0.0      534732   \n",
       "21                  Polynesia     1357          0.0      717646   \n",
       "22            Channel Islands      263          0.0      172726   \n",
       "23                 Antarctica        4          0.0           0   \n",
       "\n",
       "    population_pct   continent  \n",
       "0             25.2        Asia  \n",
       "1              8.5        Asia  \n",
       "2              3.6        Asia  \n",
       "3              3.2      Africa  \n",
       "4              4.7    Americas  \n",
       "5              5.5    Americas  \n",
       "6              2.2    Americas  \n",
       "7              3.7      Europe  \n",
       "8              2.5      Europe  \n",
       "9              1.9      Europe  \n",
       "10            21.0        Asia  \n",
       "11             0.6    Americas  \n",
       "12             5.8      Africa  \n",
       "13             1.3      Europe  \n",
       "14             5.3      Africa  \n",
       "15             0.4     Oceania  \n",
       "16             0.9      Africa  \n",
       "17             1.0        Asia  \n",
       "18             2.4      Africa  \n",
       "19             0.2     Oceania  \n",
       "20             0.0     Oceania  \n",
       "21             0.0     Oceania  \n",
       "22             0.0      Europe  \n",
       "23             0.0  Antarctica  "
      ]
     },
     "metadata": {},
     "output_type": "display_data"
    },
    {
     "data": {
      "text/html": [
       "<h2>CSAM: All Continents by Number of Reports</h2>"
      ],
      "text/plain": [
       "<IPython.core.display.HTML object>"
      ]
     },
     "metadata": {},
     "output_type": "display_data"
    },
    {
     "data": {
      "text/html": [
       "<div>\n",
       "<style scoped>\n",
       "    .dataframe tbody tr th:only-of-type {\n",
       "        vertical-align: middle;\n",
       "    }\n",
       "\n",
       "    .dataframe tbody tr th {\n",
       "        vertical-align: top;\n",
       "    }\n",
       "\n",
       "    .dataframe thead th {\n",
       "        text-align: right;\n",
       "    }\n",
       "</style>\n",
       "<table border=\"1\" class=\"dataframe\">\n",
       "  <thead>\n",
       "    <tr style=\"text-align: right;\">\n",
       "      <th></th>\n",
       "      <th>continent</th>\n",
       "      <th>reports</th>\n",
       "      <th>reports_pct</th>\n",
       "      <th>population</th>\n",
       "      <th>population_pct</th>\n",
       "    </tr>\n",
       "  </thead>\n",
       "  <tbody>\n",
       "    <tr>\n",
       "      <th>0</th>\n",
       "      <td>Asia</td>\n",
       "      <td>20701641</td>\n",
       "      <td>70.4</td>\n",
       "      <td>4693332132</td>\n",
       "      <td>59.3</td>\n",
       "    </tr>\n",
       "    <tr>\n",
       "      <th>1</th>\n",
       "      <td>Americas</td>\n",
       "      <td>4697058</td>\n",
       "      <td>16.0</td>\n",
       "      <td>1031376615</td>\n",
       "      <td>13.0</td>\n",
       "    </tr>\n",
       "    <tr>\n",
       "      <th>2</th>\n",
       "      <td>Africa</td>\n",
       "      <td>3002954</td>\n",
       "      <td>10.2</td>\n",
       "      <td>1393674296</td>\n",
       "      <td>17.6</td>\n",
       "    </tr>\n",
       "    <tr>\n",
       "      <th>3</th>\n",
       "      <td>Europe</td>\n",
       "      <td>896784</td>\n",
       "      <td>3.1</td>\n",
       "      <td>746448328</td>\n",
       "      <td>9.4</td>\n",
       "    </tr>\n",
       "    <tr>\n",
       "      <th>4</th>\n",
       "      <td>Oceania</td>\n",
       "      <td>99240</td>\n",
       "      <td>0.3</td>\n",
       "      <td>44494063</td>\n",
       "      <td>0.6</td>\n",
       "    </tr>\n",
       "    <tr>\n",
       "      <th>5</th>\n",
       "      <td>Antarctica</td>\n",
       "      <td>4</td>\n",
       "      <td>0.0</td>\n",
       "      <td>0</td>\n",
       "      <td>0.0</td>\n",
       "    </tr>\n",
       "  </tbody>\n",
       "</table>\n",
       "</div>"
      ],
      "text/plain": [
       "    continent   reports  reports_pct  population  population_pct\n",
       "0        Asia  20701641         70.4  4693332132            59.3\n",
       "1    Americas   4697058         16.0  1031376615            13.0\n",
       "2      Africa   3002954         10.2  1393674296            17.6\n",
       "3      Europe    896784          3.1   746448328             9.4\n",
       "4     Oceania     99240          0.3    44494063             0.6\n",
       "5  Antarctica         4          0.0           0             0.0"
      ]
     },
     "metadata": {},
     "output_type": "display_data"
    },
    {
     "name": "stdout",
     "output_type": "stream",
     "text": [
      "Removing 3 countries with no population\n",
      "240 countries with reports per capita from 0.00000008 to 0.28187919\n"
     ]
    },
    {
     "data": {
      "text/html": [
       "<h2>CSAM: Worst 20 Countries by Reports Per Capita</h2>"
      ],
      "text/plain": [
       "<IPython.core.display.HTML object>"
      ]
     },
     "metadata": {},
     "output_type": "display_data"
    },
    {
     "data": {
      "text/html": [
       "<div>\n",
       "<style scoped>\n",
       "    .dataframe tbody tr th:only-of-type {\n",
       "        vertical-align: middle;\n",
       "    }\n",
       "\n",
       "    .dataframe tbody tr th {\n",
       "        vertical-align: top;\n",
       "    }\n",
       "\n",
       "    .dataframe thead th {\n",
       "        text-align: right;\n",
       "    }\n",
       "</style>\n",
       "<table border=\"1\" class=\"dataframe\">\n",
       "  <thead>\n",
       "    <tr style=\"text-align: right;\">\n",
       "      <th></th>\n",
       "      <th>iso3</th>\n",
       "      <th>reports</th>\n",
       "      <th>reports_pct</th>\n",
       "      <th>population</th>\n",
       "      <th>population_pct</th>\n",
       "      <th>country</th>\n",
       "      <th>region</th>\n",
       "      <th>continent</th>\n",
       "      <th>rpc</th>\n",
       "    </tr>\n",
       "  </thead>\n",
       "  <tbody>\n",
       "    <tr>\n",
       "      <th>0</th>\n",
       "      <td>CCK</td>\n",
       "      <td>168</td>\n",
       "      <td>0.001</td>\n",
       "      <td>596</td>\n",
       "      <td>0.000</td>\n",
       "      <td>Cocos (Keeling) Islands</td>\n",
       "      <td>Australia and New Zealand</td>\n",
       "      <td>Oceania</td>\n",
       "      <td>0.282</td>\n",
       "    </tr>\n",
       "    <tr>\n",
       "      <th>1</th>\n",
       "      <td>LBY</td>\n",
       "      <td>270811</td>\n",
       "      <td>0.921</td>\n",
       "      <td>6735280</td>\n",
       "      <td>0.085</td>\n",
       "      <td>Libya</td>\n",
       "      <td>Northern Africa</td>\n",
       "      <td>Africa</td>\n",
       "      <td>0.040</td>\n",
       "    </tr>\n",
       "    <tr>\n",
       "      <th>2</th>\n",
       "      <td>ARE</td>\n",
       "      <td>327820</td>\n",
       "      <td>1.115</td>\n",
       "      <td>9365149</td>\n",
       "      <td>0.118</td>\n",
       "      <td>United Arab Emirates</td>\n",
       "      <td>Western Asia</td>\n",
       "      <td>Asia</td>\n",
       "      <td>0.035</td>\n",
       "    </tr>\n",
       "    <tr>\n",
       "      <th>3</th>\n",
       "      <td>IRQ</td>\n",
       "      <td>1220470</td>\n",
       "      <td>4.152</td>\n",
       "      <td>43533592</td>\n",
       "      <td>0.550</td>\n",
       "      <td>Iraq</td>\n",
       "      <td>Western Asia</td>\n",
       "      <td>Asia</td>\n",
       "      <td>0.028</td>\n",
       "    </tr>\n",
       "    <tr>\n",
       "      <th>4</th>\n",
       "      <td>PHL</td>\n",
       "      <td>3188793</td>\n",
       "      <td>10.847</td>\n",
       "      <td>113880336</td>\n",
       "      <td>1.440</td>\n",
       "      <td>Philippines</td>\n",
       "      <td>South-Eastern Asia</td>\n",
       "      <td>Asia</td>\n",
       "      <td>0.028</td>\n",
       "    </tr>\n",
       "    <tr>\n",
       "      <th>5</th>\n",
       "      <td>QAT</td>\n",
       "      <td>73536</td>\n",
       "      <td>0.250</td>\n",
       "      <td>2688239</td>\n",
       "      <td>0.034</td>\n",
       "      <td>Qatar</td>\n",
       "      <td>Western Asia</td>\n",
       "      <td>Asia</td>\n",
       "      <td>0.027</td>\n",
       "    </tr>\n",
       "    <tr>\n",
       "      <th>6</th>\n",
       "      <td>DZA</td>\n",
       "      <td>1171653</td>\n",
       "      <td>3.986</td>\n",
       "      <td>44177964</td>\n",
       "      <td>0.559</td>\n",
       "      <td>Algeria</td>\n",
       "      <td>Northern Africa</td>\n",
       "      <td>Africa</td>\n",
       "      <td>0.027</td>\n",
       "    </tr>\n",
       "    <tr>\n",
       "      <th>7</th>\n",
       "      <td>KHM</td>\n",
       "      <td>395793</td>\n",
       "      <td>1.346</td>\n",
       "      <td>16589031</td>\n",
       "      <td>0.210</td>\n",
       "      <td>Cambodia</td>\n",
       "      <td>South-Eastern Asia</td>\n",
       "      <td>Asia</td>\n",
       "      <td>0.024</td>\n",
       "    </tr>\n",
       "    <tr>\n",
       "      <th>8</th>\n",
       "      <td>BHR</td>\n",
       "      <td>32346</td>\n",
       "      <td>0.110</td>\n",
       "      <td>1463266</td>\n",
       "      <td>0.019</td>\n",
       "      <td>Bahrain</td>\n",
       "      <td>Western Asia</td>\n",
       "      <td>Asia</td>\n",
       "      <td>0.022</td>\n",
       "    </tr>\n",
       "    <tr>\n",
       "      <th>9</th>\n",
       "      <td>BLZ</td>\n",
       "      <td>8297</td>\n",
       "      <td>0.028</td>\n",
       "      <td>400037</td>\n",
       "      <td>0.005</td>\n",
       "      <td>Belize</td>\n",
       "      <td>Central America</td>\n",
       "      <td>Americas</td>\n",
       "      <td>0.021</td>\n",
       "    </tr>\n",
       "    <tr>\n",
       "      <th>10</th>\n",
       "      <td>SAU</td>\n",
       "      <td>708980</td>\n",
       "      <td>2.412</td>\n",
       "      <td>35950396</td>\n",
       "      <td>0.455</td>\n",
       "      <td>Saudi Arabia</td>\n",
       "      <td>Western Asia</td>\n",
       "      <td>Asia</td>\n",
       "      <td>0.020</td>\n",
       "    </tr>\n",
       "    <tr>\n",
       "      <th>11</th>\n",
       "      <td>BTN</td>\n",
       "      <td>14518</td>\n",
       "      <td>0.049</td>\n",
       "      <td>777500</td>\n",
       "      <td>0.010</td>\n",
       "      <td>Bhutan</td>\n",
       "      <td>Southern Asia</td>\n",
       "      <td>Asia</td>\n",
       "      <td>0.019</td>\n",
       "    </tr>\n",
       "    <tr>\n",
       "      <th>12</th>\n",
       "      <td>KWT</td>\n",
       "      <td>78803</td>\n",
       "      <td>0.268</td>\n",
       "      <td>4250111</td>\n",
       "      <td>0.054</td>\n",
       "      <td>Kuwait</td>\n",
       "      <td>Western Asia</td>\n",
       "      <td>Asia</td>\n",
       "      <td>0.019</td>\n",
       "    </tr>\n",
       "    <tr>\n",
       "      <th>13</th>\n",
       "      <td>MDV</td>\n",
       "      <td>9638</td>\n",
       "      <td>0.033</td>\n",
       "      <td>521469</td>\n",
       "      <td>0.007</td>\n",
       "      <td>Maldives</td>\n",
       "      <td>Southern Asia</td>\n",
       "      <td>Asia</td>\n",
       "      <td>0.018</td>\n",
       "    </tr>\n",
       "    <tr>\n",
       "      <th>14</th>\n",
       "      <td>IOT</td>\n",
       "      <td>45</td>\n",
       "      <td>0.000</td>\n",
       "      <td>3000</td>\n",
       "      <td>0.000</td>\n",
       "      <td>British Indian Ocean Territory</td>\n",
       "      <td>Eastern Africa</td>\n",
       "      <td>Africa</td>\n",
       "      <td>0.015</td>\n",
       "    </tr>\n",
       "    <tr>\n",
       "      <th>15</th>\n",
       "      <td>OMN</td>\n",
       "      <td>64156</td>\n",
       "      <td>0.218</td>\n",
       "      <td>4520474</td>\n",
       "      <td>0.057</td>\n",
       "      <td>Oman</td>\n",
       "      <td>Western Asia</td>\n",
       "      <td>Asia</td>\n",
       "      <td>0.014</td>\n",
       "    </tr>\n",
       "    <tr>\n",
       "      <th>16</th>\n",
       "      <td>MCO</td>\n",
       "      <td>494</td>\n",
       "      <td>0.002</td>\n",
       "      <td>36713</td>\n",
       "      <td>0.000</td>\n",
       "      <td>Monaco</td>\n",
       "      <td>Western Europe</td>\n",
       "      <td>Europe</td>\n",
       "      <td>0.013</td>\n",
       "    </tr>\n",
       "    <tr>\n",
       "      <th>17</th>\n",
       "      <td>TUN</td>\n",
       "      <td>164562</td>\n",
       "      <td>0.560</td>\n",
       "      <td>12262949</td>\n",
       "      <td>0.155</td>\n",
       "      <td>Tunisia</td>\n",
       "      <td>Northern Africa</td>\n",
       "      <td>Africa</td>\n",
       "      <td>0.013</td>\n",
       "    </tr>\n",
       "    <tr>\n",
       "      <th>18</th>\n",
       "      <td>DOM</td>\n",
       "      <td>144150</td>\n",
       "      <td>0.490</td>\n",
       "      <td>11117873</td>\n",
       "      <td>0.141</td>\n",
       "      <td>Dominican Republic</td>\n",
       "      <td>Caribbean</td>\n",
       "      <td>Americas</td>\n",
       "      <td>0.013</td>\n",
       "    </tr>\n",
       "    <tr>\n",
       "      <th>19</th>\n",
       "      <td>SPM</td>\n",
       "      <td>62</td>\n",
       "      <td>0.000</td>\n",
       "      <td>5905</td>\n",
       "      <td>0.000</td>\n",
       "      <td>Saint Pierre and Miquelon</td>\n",
       "      <td>North America</td>\n",
       "      <td>Americas</td>\n",
       "      <td>0.010</td>\n",
       "    </tr>\n",
       "  </tbody>\n",
       "</table>\n",
       "</div>"
      ],
      "text/plain": [
       "   iso3  reports  reports_pct  population  population_pct  \\\n",
       "0   CCK      168        0.001         596           0.000   \n",
       "1   LBY   270811        0.921     6735280           0.085   \n",
       "2   ARE   327820        1.115     9365149           0.118   \n",
       "3   IRQ  1220470        4.152    43533592           0.550   \n",
       "4   PHL  3188793       10.847   113880336           1.440   \n",
       "5   QAT    73536        0.250     2688239           0.034   \n",
       "6   DZA  1171653        3.986    44177964           0.559   \n",
       "7   KHM   395793        1.346    16589031           0.210   \n",
       "8   BHR    32346        0.110     1463266           0.019   \n",
       "9   BLZ     8297        0.028      400037           0.005   \n",
       "10  SAU   708980        2.412    35950396           0.455   \n",
       "11  BTN    14518        0.049      777500           0.010   \n",
       "12  KWT    78803        0.268     4250111           0.054   \n",
       "13  MDV     9638        0.033      521469           0.007   \n",
       "14  IOT       45        0.000        3000           0.000   \n",
       "15  OMN    64156        0.218     4520474           0.057   \n",
       "16  MCO      494        0.002       36713           0.000   \n",
       "17  TUN   164562        0.560    12262949           0.155   \n",
       "18  DOM   144150        0.490    11117873           0.141   \n",
       "19  SPM       62        0.000        5905           0.000   \n",
       "\n",
       "                           country                     region continent    rpc  \n",
       "0          Cocos (Keeling) Islands  Australia and New Zealand   Oceania  0.282  \n",
       "1                            Libya            Northern Africa    Africa  0.040  \n",
       "2             United Arab Emirates               Western Asia      Asia  0.035  \n",
       "3                             Iraq               Western Asia      Asia  0.028  \n",
       "4                      Philippines         South-Eastern Asia      Asia  0.028  \n",
       "5                            Qatar               Western Asia      Asia  0.027  \n",
       "6                          Algeria            Northern Africa    Africa  0.027  \n",
       "7                         Cambodia         South-Eastern Asia      Asia  0.024  \n",
       "8                          Bahrain               Western Asia      Asia  0.022  \n",
       "9                           Belize            Central America  Americas  0.021  \n",
       "10                    Saudi Arabia               Western Asia      Asia  0.020  \n",
       "11                          Bhutan              Southern Asia      Asia  0.019  \n",
       "12                          Kuwait               Western Asia      Asia  0.019  \n",
       "13                        Maldives              Southern Asia      Asia  0.018  \n",
       "14  British Indian Ocean Territory             Eastern Africa    Africa  0.015  \n",
       "15                            Oman               Western Asia      Asia  0.014  \n",
       "16                          Monaco             Western Europe    Europe  0.013  \n",
       "17                         Tunisia            Northern Africa    Africa  0.013  \n",
       "18              Dominican Republic                  Caribbean  Americas  0.013  \n",
       "19       Saint Pierre and Miquelon              North America  Americas  0.010  "
      ]
     },
     "metadata": {},
     "output_type": "display_data"
    },
    {
     "data": {
      "text/html": [
       "<h2>CSAM: Reports Per Capita vs Reports (matplotlib)</h2>"
      ],
      "text/plain": [
       "<IPython.core.display.HTML object>"
      ]
     },
     "metadata": {},
     "output_type": "display_data"
    },
    {
     "data": {
      "image/png": "[encoded data removed]",
      "text/plain": [
       "<Figure size 800x600 with 1 Axes>"
      ]
     },
     "metadata": {},
     "output_type": "display_data"
    },
    {
     "data": {
      "image/png": "[encoded data removed]",
      "text/plain": [
       "<Figure size 800x600 with 1 Axes>"
      ]
     },
     "metadata": {},
     "output_type": "display_data"
    },
    {
     "data": {
      "text/html": [
       "<h2>CSAM: Reports Per Capita (plotly)</h2>"
      ],
      "text/plain": [
       "<IPython.core.display.HTML object>"
      ]
     },
     "metadata": {},
     "output_type": "display_data"
    },
    {
     "data": {
      "application/vnd.plotly.v1+json": {
       "config": {
        "plotlyServerURL": "https://plot.ly"
       },
       "data": [
        {
         "colorscale": [
          [
           0,
           "rgb(255,245,240)"
          ],
          [
           0.125,
           "rgb(254,224,210)"
          ],
          [
           0.25,
           "rgb(252,187,161)"
          ],
          [
           0.375,
           "rgb(252,146,114)"
          ],
          [
           0.5,
           "rgb(251,106,74)"
          ],
          [
           0.625,
           "rgb(239,59,44)"
          ],
          [
           0.75,
           "rgb(203,24,29)"
          ],
          [
           0.875,
           "rgb(165,15,21)"
          ],
          [
           1,
           "rgb(103,0,13)"
          ]
         ],
         "locationmode": "ISO-3",
         "locations": [
          "CCK",
          "LBY",
          "ARE",
          "IRQ",
          "PHL",
          "QAT",
          "DZA",
          "KHM",
          "BHR",
          "BLZ",
          "SAU",
          "BTN",
          "KWT",
          "MDV",
          "IOT",
          "OMN",
          "MCO",
          "TUN",
          "DOM",
          "SPM",
          "BGD",
          "JOR",
          "MMR",
          "MAR",
          "SGP",
          "FJI",
          "PAK",
          "NPL",
          "PLW",
          "COL",
          "LBN",
          "NCL",
          "THA",
          "MYS",
          "SYC",
          "PSE",
          "YEM",
          "VNM",
          "BRN",
          "AFG",
          "LKA",
          "IDN",
          "ECU",
          "CPV",
          "MNG",
          "MNP",
          "MEX",
          "LAO",
          "PER",
          "MUS",
          "EGY",
          "SLV",
          "USA",
          "ALB",
          "NIC",
          "VEN",
          "GRL",
          "ABW",
          "COM",
          "AIA",
          "VUT",
          "HND",
          "AZE",
          "GUM",
          "GUY",
          "MNE",
          "FLK",
          "NRU",
          "VCT",
          "GIB",
          "GTM",
          "SYR",
          "COK",
          "GRD",
          "TUR",
          "SUR",
          "TCA",
          "PRT",
          "BIH",
          "IND",
          "REU",
          "HUN",
          "CRI",
          "LUX",
          "MDA",
          "SRB",
          "MYT",
          "BOL",
          "TTO",
          "MKD",
          "TLS",
          "BES",
          "HKG",
          "MDG",
          "ISR",
          "CYM",
          "IRN",
          "VGB",
          "ASM",
          "AUS",
          "MHL",
          "LCA",
          "PAN",
          "CHL",
          "TUV",
          "TKL",
          "CYP",
          "BRB",
          "WSM",
          "BHS",
          "NLD",
          "SLB",
          "WLF",
          "PRI",
          "EST",
          "BRA",
          "ARG",
          "KOS",
          "VIR",
          "SXM",
          "PRY",
          "BGR",
          "NZL",
          "CUW",
          "GEO",
          "SWE",
          "STP",
          "URY",
          "TON",
          "JEY",
          "FSM",
          "DMA",
          "SOM",
          "ROU",
          "KNA",
          "CAN",
          "TWN",
          "ATG",
          "PYF",
          "UKR",
          "ISL",
          "FRA",
          "SVN",
          "IRL",
          "MAC",
          "GBR",
          "NOR",
          "FRO",
          "CZE",
          "MLT",
          "BMU",
          "GRC",
          "KIR",
          "BEL",
          "SVK",
          "JAM",
          "AND",
          "MRT",
          "LTU",
          "ARM",
          "VAT",
          "CUB",
          "IMN",
          "HRV",
          "DJI",
          "FIN",
          "GGY",
          "GUF",
          "KOR",
          "DNK",
          "POL",
          "DEU",
          "BLM",
          "KAZ",
          "MTQ",
          "ZAF",
          "AUT",
          "CHE",
          "LVA",
          "GAB",
          "GLP",
          "BWA",
          "CXR",
          "PNG",
          "ALA",
          "ESP",
          "SDN",
          "CIV",
          "ITA",
          "MAF",
          "GHA",
          "BLR",
          "KGZ",
          "RUS",
          "NIU",
          "MSR",
          "LIE",
          "TJK",
          "JPN",
          "AGO",
          "HTI",
          "LSO",
          "NAM",
          "LBR",
          "KEN",
          "ERI",
          "SWZ",
          "CMR",
          "BEN",
          "GIN",
          "NGA",
          "SEN",
          "UZB",
          "MOZ",
          "ZMB",
          "COG",
          "SSD",
          "TGO",
          "SMR",
          "SLE",
          "ESH",
          "MLI",
          "BDI",
          "BFA",
          "GMB",
          "TZA",
          "UGA",
          "GNQ",
          "RWA",
          "GNB",
          "ETH",
          "COD",
          "ZWE",
          "MWI",
          "CAF",
          "TCD",
          "NER",
          "TKM",
          "CHN",
          "PRK"
         ],
         "showscale": false,
         "type": "choropleth",
         "z": [
          4,
          3,
          3,
          3,
          3,
          3,
          3,
          3,
          2,
          2,
          2,
          2,
          2,
          2,
          2,
          2,
          2,
          2,
          2,
          1,
          1,
          1,
          1,
          1,
          1,
          1,
          1,
          1,
          1,
          1,
          1,
          1,
          1,
          1,
          1,
          1,
          1,
          1,
          1,
          1,
          1,
          1,
          1,
          1,
          1,
          1,
          1,
          1,
          1,
          1,
          1,
          1,
          1,
          1,
          1,
          1,
          1,
          1,
          1,
          1,
          1,
          0,
          0,
          0,
          0,
          0,
          0,
          0,
          0,
          0,
          0,
          0,
          0,
          0,
          0,
          0,
          0,
          0,
          0,
          0,
          0,
          0,
          0,
          0,
          0,
          0,
          0,
          0,
          0,
          0,
          0,
          0,
          0,
          0,
          0,
          0,
          0,
          0,
          0,
          0,
          0,
          0,
          0,
          0,
          0,
          0,
          0,
          0,
          0,
          0,
          0,
          0,
          0,
          0,
          0,
          0,
          0,
          0,
          0,
          0,
          0,
          0,
          0,
          0,
          0,
          0,
          0,
          0,
          0,
          0,
          0,
          0,
          0,
          0,
          0,
          0,
          0,
          0,
          0,
          0,
          0,
          0,
          0,
          0,
          0,
          0,
          0,
          0,
          0,
          0,
          0,
          0,
          0,
          0,
          0,
          0,
          0,
          0,
          0,
          0,
          0,
          0,
          0,
          0,
          0,
          0,
          0,
          0,
          0,
          0,
          0,
          0,
          0,
          0,
          0,
          0,
          0,
          0,
          0,
          0,
          0,
          0,
          0,
          0,
          0,
          0,
          0,
          0,
          0,
          0,
          0,
          0,
          0,
          0,
          0,
          0,
          0,
          0,
          0,
          0,
          0,
          0,
          0,
          0,
          0,
          0,
          0,
          0,
          0,
          0,
          0,
          0,
          0,
          0,
          0,
          0,
          0,
          0,
          0,
          0,
          0,
          0,
          0,
          0,
          0,
          0,
          0,
          0,
          0,
          0,
          0,
          0,
          0,
          0,
          0,
          0,
          0,
          0,
          0,
          0
         ]
        }
       ],
       "layout": {
        "geo": {
         "bgcolor": "#dddde6",
         "fitbounds": "locations",
         "lataxis": {
          "range": [
           -60,
           90
          ]
         },
         "visible": false
        },
        "height": 270,
        "margin": {
         "b": 0,
         "l": 0,
         "r": 0,
         "t": 0
        },
        "template": {
         "data": {
          "bar": [
           {
            "error_x": {
             "color": "#2a3f5f"
            },
            "error_y": {
             "color": "#2a3f5f"
            },
            "marker": {
             "line": {
              "color": "#E5ECF6",
              "width": 0.5
             },
             "pattern": {
              "fillmode": "overlay",
              "size": 10,
              "solidity": 0.2
             }
            },
            "type": "bar"
           }
          ],
          "barpolar": [
           {
            "marker": {
             "line": {
              "color": "#E5ECF6",
              "width": 0.5
             },
             "pattern": {
              "fillmode": "overlay",
              "size": 10,
              "solidity": 0.2
             }
            },
            "type": "barpolar"
           }
          ],
          "carpet": [
           {
            "aaxis": {
             "endlinecolor": "#2a3f5f",
             "gridcolor": "white",
             "linecolor": "white",
             "minorgridcolor": "white",
             "startlinecolor": "#2a3f5f"
            },
            "baxis": {
             "endlinecolor": "#2a3f5f",
             "gridcolor": "white",
             "linecolor": "white",
             "minorgridcolor": "white",
             "startlinecolor": "#2a3f5f"
            },
            "type": "carpet"
           }
          ],
          "choropleth": [
           {
            "colorbar": {
             "outlinewidth": 0,
             "ticks": ""
            },
            "type": "choropleth"
           }
          ],
          "contour": [
           {
            "colorbar": {
             "outlinewidth": 0,
             "ticks": ""
            },
            "colorscale": [
             [
              0,
              "#0d0887"
             ],
             [
              0.1111111111111111,
              "#46039f"
             ],
             [
              0.2222222222222222,
              "#7201a8"
             ],
             [
              0.3333333333333333,
              "#9c179e"
             ],
             [
              0.4444444444444444,
              "#bd3786"
             ],
             [
              0.5555555555555556,
              "#d8576b"
             ],
             [
              0.6666666666666666,
              "#ed7953"
             ],
             [
              0.7777777777777778,
              "#fb9f3a"
             ],
             [
              0.8888888888888888,
              "#fdca26"
             ],
             [
              1,
              "#f0f921"
             ]
            ],
            "type": "contour"
           }
          ],
          "contourcarpet": [
           {
            "colorbar": {
             "outlinewidth": 0,
             "ticks": ""
            },
            "type": "contourcarpet"
           }
          ],
          "heatmap": [
           {
            "colorbar": {
             "outlinewidth": 0,
             "ticks": ""
            },
            "colorscale": [
             [
              0,
              "#0d0887"
             ],
             [
              0.1111111111111111,
              "#46039f"
             ],
             [
              0.2222222222222222,
              "#7201a8"
             ],
             [
              0.3333333333333333,
              "#9c179e"
             ],
             [
              0.4444444444444444,
              "#bd3786"
             ],
             [
              0.5555555555555556,
              "#d8576b"
             ],
             [
              0.6666666666666666,
              "#ed7953"
             ],
             [
              0.7777777777777778,
              "#fb9f3a"
             ],
             [
              0.8888888888888888,
              "#fdca26"
             ],
             [
              1,
              "#f0f921"
             ]
            ],
            "type": "heatmap"
           }
          ],
          "heatmapgl": [
           {
            "colorbar": {
             "outlinewidth": 0,
             "ticks": ""
            },
            "colorscale": [
             [
              0,
              "#0d0887"
             ],
             [
              0.1111111111111111,
              "#46039f"
             ],
             [
              0.2222222222222222,
              "#7201a8"
             ],
             [
              0.3333333333333333,
              "#9c179e"
             ],
             [
              0.4444444444444444,
              "#bd3786"
             ],
             [
              0.5555555555555556,
              "#d8576b"
             ],
             [
              0.6666666666666666,
              "#ed7953"
             ],
             [
              0.7777777777777778,
              "#fb9f3a"
             ],
             [
              0.8888888888888888,
              "#fdca26"
             ],
             [
              1,
              "#f0f921"
             ]
            ],
            "type": "heatmapgl"
           }
          ],
          "histogram": [
           {
            "marker": {
             "pattern": {
              "fillmode": "overlay",
              "size": 10,
              "solidity": 0.2
             }
            },
            "type": "histogram"
           }
          ],
          "histogram2d": [
           {
            "colorbar": {
             "outlinewidth": 0,
             "ticks": ""
            },
            "colorscale": [
             [
              0,
              "#0d0887"
             ],
             [
              0.1111111111111111,
              "#46039f"
             ],
             [
              0.2222222222222222,
              "#7201a8"
             ],
             [
              0.3333333333333333,
              "#9c179e"
             ],
             [
              0.4444444444444444,
              "#bd3786"
             ],
             [
              0.5555555555555556,
              "#d8576b"
             ],
             [
              0.6666666666666666,
              "#ed7953"
             ],
             [
              0.7777777777777778,
              "#fb9f3a"
             ],
             [
              0.8888888888888888,
              "#fdca26"
             ],
             [
              1,
              "#f0f921"
             ]
            ],
            "type": "histogram2d"
           }
          ],
          "histogram2dcontour": [
           {
            "colorbar": {
             "outlinewidth": 0,
             "ticks": ""
            },
            "colorscale": [
             [
              0,
              "#0d0887"
             ],
             [
              0.1111111111111111,
              "#46039f"
             ],
             [
              0.2222222222222222,
              "#7201a8"
             ],
             [
              0.3333333333333333,
              "#9c179e"
             ],
             [
              0.4444444444444444,
              "#bd3786"
             ],
             [
              0.5555555555555556,
              "#d8576b"
             ],
             [
              0.6666666666666666,
              "#ed7953"
             ],
             [
              0.7777777777777778,
              "#fb9f3a"
             ],
             [
              0.8888888888888888,
              "#fdca26"
             ],
             [
              1,
              "#f0f921"
             ]
            ],
            "type": "histogram2dcontour"
           }
          ],
          "mesh3d": [
           {
            "colorbar": {
             "outlinewidth": 0,
             "ticks": ""
            },
            "type": "mesh3d"
           }
          ],
          "parcoords": [
           {
            "line": {
             "colorbar": {
              "outlinewidth": 0,
              "ticks": ""
             }
            },
            "type": "parcoords"
           }
          ],
          "pie": [
           {
            "automargin": true,
            "type": "pie"
           }
          ],
          "scatter": [
           {
            "fillpattern": {
             "fillmode": "overlay",
             "size": 10,
             "solidity": 0.2
            },
            "type": "scatter"
           }
          ],
          "scatter3d": [
           {
            "line": {
             "colorbar": {
              "outlinewidth": 0,
              "ticks": ""
             }
            },
            "marker": {
             "colorbar": {
              "outlinewidth": 0,
              "ticks": ""
             }
            },
            "type": "scatter3d"
           }
          ],
          "scattercarpet": [
           {
            "marker": {
             "colorbar": {
              "outlinewidth": 0,
              "ticks": ""
             }
            },
            "type": "scattercarpet"
           }
          ],
          "scattergeo": [
           {
            "marker": {
             "colorbar": {
              "outlinewidth": 0,
              "ticks": ""
             }
            },
            "type": "scattergeo"
           }
          ],
          "scattergl": [
           {
            "marker": {
             "colorbar": {
              "outlinewidth": 0,
              "ticks": ""
             }
            },
            "type": "scattergl"
           }
          ],
          "scattermapbox": [
           {
            "marker": {
             "colorbar": {
              "outlinewidth": 0,
              "ticks": ""
             }
            },
            "type": "scattermapbox"
           }
          ],
          "scatterpolar": [
           {
            "marker": {
             "colorbar": {
              "outlinewidth": 0,
              "ticks": ""
             }
            },
            "type": "scatterpolar"
           }
          ],
          "scatterpolargl": [
           {
            "marker": {
             "colorbar": {
              "outlinewidth": 0,
              "ticks": ""
             }
            },
            "type": "scatterpolargl"
           }
          ],
          "scatterternary": [
           {
            "marker": {
             "colorbar": {
              "outlinewidth": 0,
              "ticks": ""
             }
            },
            "type": "scatterternary"
           }
          ],
          "surface": [
           {
            "colorbar": {
             "outlinewidth": 0,
             "ticks": ""
            },
            "colorscale": [
             [
              0,
              "#0d0887"
             ],
             [
              0.1111111111111111,
              "#46039f"
             ],
             [
              0.2222222222222222,
              "#7201a8"
             ],
             [
              0.3333333333333333,
              "#9c179e"
             ],
             [
              0.4444444444444444,
              "#bd3786"
             ],
             [
              0.5555555555555556,
              "#d8576b"
             ],
             [
              0.6666666666666666,
              "#ed7953"
             ],
             [
              0.7777777777777778,
              "#fb9f3a"
             ],
             [
              0.8888888888888888,
              "#fdca26"
             ],
             [
              1,
              "#f0f921"
             ]
            ],
            "type": "surface"
           }
          ],
          "table": [
           {
            "cells": {
             "fill": {
              "color": "#EBF0F8"
             },
             "line": {
              "color": "white"
             }
            },
            "header": {
             "fill": {
              "color": "#C8D4E3"
             },
             "line": {
              "color": "white"
             }
            },
            "type": "table"
           }
          ]
         },
         "layout": {
          "annotationdefaults": {
           "arrowcolor": "#2a3f5f",
           "arrowhead": 0,
           "arrowwidth": 1
          },
          "autotypenumbers": "strict",
          "coloraxis": {
           "colorbar": {
            "outlinewidth": 0,
            "ticks": ""
           }
          },
          "colorscale": {
           "diverging": [
            [
             0,
             "#8e0152"
            ],
            [
             0.1,
             "#c51b7d"
            ],
            [
             0.2,
             "#de77ae"
            ],
            [
             0.3,
             "#f1b6da"
            ],
            [
             0.4,
             "#fde0ef"
            ],
            [
             0.5,
             "#f7f7f7"
            ],
            [
             0.6,
             "#e6f5d0"
            ],
            [
             0.7,
             "#b8e186"
            ],
            [
             0.8,
             "#7fbc41"
            ],
            [
             0.9,
             "#4d9221"
            ],
            [
             1,
             "#276419"
            ]
           ],
           "sequential": [
            [
             0,
             "#0d0887"
            ],
            [
             0.1111111111111111,
             "#46039f"
            ],
            [
             0.2222222222222222,
             "#7201a8"
            ],
            [
             0.3333333333333333,
             "#9c179e"
            ],
            [
             0.4444444444444444,
             "#bd3786"
            ],
            [
             0.5555555555555556,
             "#d8576b"
            ],
            [
             0.6666666666666666,
             "#ed7953"
            ],
            [
             0.7777777777777778,
             "#fb9f3a"
            ],
            [
             0.8888888888888888,
             "#fdca26"
            ],
            [
             1,
             "#f0f921"
            ]
           ],
           "sequentialminus": [
            [
             0,
             "#0d0887"
            ],
            [
             0.1111111111111111,
             "#46039f"
            ],
            [
             0.2222222222222222,
             "#7201a8"
            ],
            [
             0.3333333333333333,
             "#9c179e"
            ],
            [
             0.4444444444444444,
             "#bd3786"
            ],
            [
             0.5555555555555556,
             "#d8576b"
            ],
            [
             0.6666666666666666,
             "#ed7953"
            ],
            [
             0.7777777777777778,
             "#fb9f3a"
            ],
            [
             0.8888888888888888,
             "#fdca26"
            ],
            [
             1,
             "#f0f921"
            ]
           ]
          },
          "colorway": [
           "#636efa",
           "#EF553B",
           "#00cc96",
           "#ab63fa",
           "#FFA15A",
           "#19d3f3",
           "#FF6692",
           "#B6E880",
           "#FF97FF",
           "#FECB52"
          ],
          "font": {
           "color": "#2a3f5f"
          },
          "geo": {
           "bgcolor": "white",
           "lakecolor": "white",
           "landcolor": "#E5ECF6",
           "showlakes": true,
           "showland": true,
           "subunitcolor": "white"
          },
          "hoverlabel": {
           "align": "left"
          },
          "hovermode": "closest",
          "mapbox": {
           "style": "light"
          },
          "paper_bgcolor": "white",
          "plot_bgcolor": "#E5ECF6",
          "polar": {
           "angularaxis": {
            "gridcolor": "white",
            "linecolor": "white",
            "ticks": ""
           },
           "bgcolor": "#E5ECF6",
           "radialaxis": {
            "gridcolor": "white",
            "linecolor": "white",
            "ticks": ""
           }
          },
          "scene": {
           "xaxis": {
            "backgroundcolor": "#E5ECF6",
            "gridcolor": "white",
            "gridwidth": 2,
            "linecolor": "white",
            "showbackground": true,
            "ticks": "",
            "zerolinecolor": "white"
           },
           "yaxis": {
            "backgroundcolor": "#E5ECF6",
            "gridcolor": "white",
            "gridwidth": 2,
            "linecolor": "white",
            "showbackground": true,
            "ticks": "",
            "zerolinecolor": "white"
           },
           "zaxis": {
            "backgroundcolor": "#E5ECF6",
            "gridcolor": "white",
            "gridwidth": 2,
            "linecolor": "white",
            "showbackground": true,
            "ticks": "",
            "zerolinecolor": "white"
           }
          },
          "shapedefaults": {
           "line": {
            "color": "#2a3f5f"
           }
          },
          "ternary": {
           "aaxis": {
            "gridcolor": "white",
            "linecolor": "white",
            "ticks": ""
           },
           "baxis": {
            "gridcolor": "white",
            "linecolor": "white",
            "ticks": ""
           },
           "bgcolor": "#E5ECF6",
           "caxis": {
            "gridcolor": "white",
            "linecolor": "white",
            "ticks": ""
           }
          },
          "title": {
           "x": 0.05
          },
          "xaxis": {
           "automargin": true,
           "gridcolor": "white",
           "linecolor": "white",
           "ticks": "",
           "title": {
            "standoff": 15
           },
           "zerolinecolor": "white",
           "zerolinewidth": 2
          },
          "yaxis": {
           "automargin": true,
           "gridcolor": "white",
           "linecolor": "white",
           "ticks": "",
           "title": {
            "standoff": 15
           },
           "zerolinecolor": "white",
           "zerolinewidth": 2
          }
         }
        },
        "width": 600
       }
      }
     },
     "metadata": {},
     "output_type": "display_data"
    }
   ],
   "source": [
    "%run csam-across-world.ipynb"
   ]
  },
  {
   "cell_type": "code",
   "execution_count": 4,
   "metadata": {},
   "outputs": [
    {
     "data": {
      "text/html": [
       "<h1>NCMEC vs Platform Disclosures 2021</h1>"
      ],
      "text/plain": [
       "<IPython.core.display.HTML object>"
      ]
     },
     "metadata": {},
     "output_type": "display_data"
    },
    {
     "name": "stdout",
     "output_type": "stream",
     "text": [
      "Pinterest H2: 1608 + 11.6% = 1794\n",
      "Snap H1: 119,134 + 14.4% = 136,336\n",
      "TikTok videos removed due to minor safety: 141,795,713\n"
     ]
    },
    {
     "data": {
      "text/html": [
       "<style type=\"text/css\">\n",
       "</style>\n",
       "<table id=\"T_863c2\">\n",
       "  <thead>\n",
       "    <tr>\n",
       "      <th class=\"blank level0\" >&nbsp;</th>\n",
       "      <th id=\"T_863c2_level0_col0\" class=\"col_heading level0 col0\" >NCMEC</th>\n",
       "      <th id=\"T_863c2_level0_col1\" class=\"col_heading level0 col1\" >∆</th>\n",
       "      <th id=\"T_863c2_level0_col2\" class=\"col_heading level0 col2\" >Platform</th>\n",
       "    </tr>\n",
       "  </thead>\n",
       "  <tbody>\n",
       "    <tr>\n",
       "      <th id=\"T_863c2_level0_row0\" class=\"row_heading level0 row0\" >LinkedIn</th>\n",
       "      <td id=\"T_863c2_row0_col0\" class=\"data row0 col0\" >110</td>\n",
       "      <td id=\"T_863c2_row0_col1\" class=\"data row0 col1\" >105%</td>\n",
       "      <td id=\"T_863c2_row0_col2\" class=\"data row0 col2\" >226</td>\n",
       "    </tr>\n",
       "    <tr>\n",
       "      <th id=\"T_863c2_level0_row1\" class=\"row_heading level0 row1\" >Pinterest</th>\n",
       "      <td id=\"T_863c2_row1_col0\" class=\"data row1 col0\" >2,283</td>\n",
       "      <td id=\"T_863c2_row1_col1\" class=\"data row1 col1\" >18%</td>\n",
       "      <td id=\"T_863c2_row1_col2\" class=\"data row1 col2\" >2,685</td>\n",
       "    </tr>\n",
       "    <tr>\n",
       "      <th id=\"T_863c2_level0_row2\" class=\"row_heading level0 row2\" >Reddit</th>\n",
       "      <td id=\"T_863c2_row2_col0\" class=\"data row2 col0\" >10,059</td>\n",
       "      <td id=\"T_863c2_row2_col1\" class=\"data row2 col1\" >0%</td>\n",
       "      <td id=\"T_863c2_row2_col2\" class=\"data row2 col2\" >10,059</td>\n",
       "    </tr>\n",
       "    <tr>\n",
       "      <th id=\"T_863c2_level0_row3\" class=\"row_heading level0 row3\" >Snap</th>\n",
       "      <td id=\"T_863c2_row3_col0\" class=\"data row3 col0\" >512,522</td>\n",
       "      <td id=\"T_863c2_row3_col1\" class=\"data row3 col1\" >-35%</td>\n",
       "      <td id=\"T_863c2_row3_col2\" class=\"data row3 col2\" >334,445</td>\n",
       "    </tr>\n",
       "    <tr>\n",
       "      <th id=\"T_863c2_level0_row4\" class=\"row_heading level0 row4\" >TikTok</th>\n",
       "      <td id=\"T_863c2_row4_col0\" class=\"data row4 col0\" >154,618</td>\n",
       "      <td id=\"T_863c2_row4_col1\" class=\"data row4 col1\" >91,607%</td>\n",
       "      <td id=\"T_863c2_row4_col2\" class=\"data row4 col2\" >141,795,713</td>\n",
       "    </tr>\n",
       "    <tr>\n",
       "      <th id=\"T_863c2_level0_row5\" class=\"row_heading level0 row5\" >Twitter</th>\n",
       "      <td id=\"T_863c2_row5_col0\" class=\"data row5 col0\" >86,666</td>\n",
       "      <td id=\"T_863c2_row5_col1\" class=\"data row5 col1\" >1,112%</td>\n",
       "      <td id=\"T_863c2_row5_col2\" class=\"data row5 col2\" >1,050,751</td>\n",
       "    </tr>\n",
       "  </tbody>\n",
       "</table>\n"
      ],
      "text/plain": [
       "<pandas.io.formats.style.Styler at 0x121d49350>"
      ]
     },
     "metadata": {},
     "output_type": "display_data"
    }
   ],
   "source": [
    "%run ncmec-vs-platforms.ipynb"
   ]
  }
 ],
 "metadata": {
  "kernelspec": {
   "display_name": ".venv",
   "language": "python",
   "name": "python3"
  },
  "language_info": {
   "codemirror_mode": {
    "name": "ipython",
    "version": 3
   },
   "file_extension": ".py",
   "mimetype": "text/x-python",
   "name": "python",
   "nbconvert_exporter": "python",
   "pygments_lexer": "ipython3",
   "version": "3.11.1"
  },
  "orig_nbformat": 4
 },
 "nbformat": 4,
 "nbformat_minor": 2
}
