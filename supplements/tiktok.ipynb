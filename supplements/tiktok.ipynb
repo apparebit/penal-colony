{
 "cells": [
  {
   "cell_type": "code",
   "execution_count": 3,
   "metadata": {},
   "outputs": [
    {
     "data": {
      "text/html": [
       "<h1>TikTok</h1><h2>TikTok: Historical video removals</h2>"
      ],
      "text/plain": [
       "<IPython.core.display.HTML object>"
      ]
     },
     "metadata": {},
     "output_type": "display_data"
    },
    {
     "data": {
      "text/html": [
       "<div>\n",
       "<style scoped>\n",
       "    .dataframe tbody tr th:only-of-type {\n",
       "        vertical-align: middle;\n",
       "    }\n",
       "\n",
       "    .dataframe tbody tr th {\n",
       "        vertical-align: top;\n",
       "    }\n",
       "\n",
       "    .dataframe thead th {\n",
       "        text-align: right;\n",
       "    }\n",
       "</style>\n",
       "<table border=\"1\" class=\"dataframe\">\n",
       "  <thead>\n",
       "    <tr style=\"text-align: right;\">\n",
       "      <th></th>\n",
       "      <th>Removed</th>\n",
       "      <th>Autoremoved</th>\n",
       "      <th>Restored</th>\n",
       "      <th>Autoremoved_pct</th>\n",
       "    </tr>\n",
       "    <tr>\n",
       "      <th>Quarter</th>\n",
       "      <th></th>\n",
       "      <th></th>\n",
       "      <th></th>\n",
       "      <th></th>\n",
       "    </tr>\n",
       "  </thead>\n",
       "  <tbody>\n",
       "    <tr>\n",
       "      <th>2020Q3</th>\n",
       "      <td>43086543</td>\n",
       "      <td>3370913</td>\n",
       "      <td>1315135</td>\n",
       "      <td>7.823587</td>\n",
       "    </tr>\n",
       "    <tr>\n",
       "      <th>2020Q4</th>\n",
       "      <td>46112104</td>\n",
       "      <td>4923971</td>\n",
       "      <td>1612146</td>\n",
       "      <td>10.678261</td>\n",
       "    </tr>\n",
       "    <tr>\n",
       "      <th>2021Q1</th>\n",
       "      <td>61951327</td>\n",
       "      <td>8832345</td>\n",
       "      <td>2833837</td>\n",
       "      <td>14.256910</td>\n",
       "    </tr>\n",
       "    <tr>\n",
       "      <th>2021Q2</th>\n",
       "      <td>81518334</td>\n",
       "      <td>16957950</td>\n",
       "      <td>4663387</td>\n",
       "      <td>20.802621</td>\n",
       "    </tr>\n",
       "    <tr>\n",
       "      <th>2021Q3</th>\n",
       "      <td>91445802</td>\n",
       "      <td>31009160</td>\n",
       "      <td>5535378</td>\n",
       "      <td>33.909878</td>\n",
       "    </tr>\n",
       "    <tr>\n",
       "      <th>2021Q4</th>\n",
       "      <td>85794222</td>\n",
       "      <td>28389936</td>\n",
       "      <td>4727382</td>\n",
       "      <td>33.090732</td>\n",
       "    </tr>\n",
       "    <tr>\n",
       "      <th>2022Q1</th>\n",
       "      <td>102305516</td>\n",
       "      <td>34726592</td>\n",
       "      <td>5025536</td>\n",
       "      <td>33.944007</td>\n",
       "    </tr>\n",
       "    <tr>\n",
       "      <th>2022Q2</th>\n",
       "      <td>113809300</td>\n",
       "      <td>48011571</td>\n",
       "      <td>5896218</td>\n",
       "      <td>42.185982</td>\n",
       "    </tr>\n",
       "    <tr>\n",
       "      <th>2022Q3</th>\n",
       "      <td>110954663</td>\n",
       "      <td>53287839</td>\n",
       "      <td>6937997</td>\n",
       "      <td>48.026678</td>\n",
       "    </tr>\n",
       "  </tbody>\n",
       "</table>\n",
       "</div>"
      ],
      "text/plain": [
       "           Removed  Autoremoved  Restored  Autoremoved_pct\n",
       "Quarter                                                   \n",
       "2020Q3    43086543      3370913   1315135         7.823587\n",
       "2020Q4    46112104      4923971   1612146        10.678261\n",
       "2021Q1    61951327      8832345   2833837        14.256910\n",
       "2021Q2    81518334     16957950   4663387        20.802621\n",
       "2021Q3    91445802     31009160   5535378        33.909878\n",
       "2021Q4    85794222     28389936   4727382        33.090732\n",
       "2022Q1   102305516     34726592   5025536        33.944007\n",
       "2022Q2   113809300     48011571   5896218        42.185982\n",
       "2022Q3   110954663     53287839   6937997        48.026678"
      ]
     },
     "metadata": {},
     "output_type": "display_data"
    }
   ],
   "source": [
    "import pandas as pd\n",
    "from IPython.display import display, HTML\n",
    "\n",
    "df = (pd\n",
    "    .read_excel('data/tiktok-q3-2022.xlsx', sheet_name='Historical video removals')\n",
    "    .rename(columns={\n",
    "        'Date': 'Quarter',\n",
    "        'Total videos removed': 'Removed',\n",
    "        'Videos removed by automation': 'Autoremoved',\n",
    "        'Videos restored': 'Restored',\n",
    "    })\n",
    "    .assign(Quarter=lambda df: df['Quarter'].astype('period[Q]'))\n",
    "    .assign(Autoremoved_pct=lambda df: df['Autoremoved'] / df['Removed'] * 100)\n",
    "    .set_index('Quarter')\n",
    ")\n",
    "\n",
    "assert str(df.index.dtype) == 'period[Q-DEC]'\n",
    "assert str(df.dtypes['Removed']) == 'int64'\n",
    "assert str(df.dtypes['Autoremoved']) == 'int64'\n",
    "assert str(df.dtypes['Restored']) == 'int64'\n",
    "assert str(df.dtypes['Autoremoved_pct']) == 'float64'\n",
    "\n",
    "display(HTML('<h1>TikTok</h1><h2>TikTok: Historical video removals</h2>'))\n",
    "display(df)"
   ]
  },
  {
   "cell_type": "code",
   "execution_count": 4,
   "metadata": {},
   "outputs": [
    {
     "data": {
      "text/html": [
       "<h2>TikTok: Fraction of Automatically Removed Videos in %</h2>"
      ],
      "text/plain": [
       "<IPython.core.display.HTML object>"
      ]
     },
     "metadata": {},
     "output_type": "display_data"
    },
    {
     "data": {
      "text/plain": [
       "<AxesSubplot: xlabel='Quarter'>"
      ]
     },
     "execution_count": 4,
     "metadata": {},
     "output_type": "execute_result"
    },
    {
     "data": {
      "image/png": "[encoded data removed]",
      "text/plain": [
       "<Figure size 640x480 with 1 Axes>"
      ]
     },
     "metadata": {},
     "output_type": "display_data"
    }
   ],
   "source": [
    "display(HTML('<h2>TikTok: Fraction of Automatically Removed Videos in %</h2>'))\n",
    "df['Autoremoved_pct'].plot()"
   ]
  }
 ],
 "metadata": {
  "kernelspec": {
   "display_name": ".venv",
   "language": "python",
   "name": "python3"
  },
  "language_info": {
   "codemirror_mode": {
    "name": "ipython",
    "version": 3
   },
   "file_extension": ".py",
   "mimetype": "text/x-python",
   "name": "python",
   "nbconvert_exporter": "python",
   "pygments_lexer": "ipython3",
   "version": "3.11.1"
  },
  "orig_nbformat": 4,
  "vscode": {
   "interpreter": {
    "hash": "9ce88fbad2d8af4b50a35b243c99433d2f07521cad157880d48b76fb421ca102"
   }
  }
 },
 "nbformat": 4,
 "nbformat_minor": 2
}
